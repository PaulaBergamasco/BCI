{
  "nbformat": 4,
  "nbformat_minor": 0,
  "metadata": {
    "colab": {
      "name": "tp4",
      "provenance": [],
      "collapsed_sections": [
        "TCFpt6rbtkU0",
        "OS6C4CAW_HHw",
        "66Ho2tAwK99O",
        "oMPz4HJmsYnX",
        "lksY14MPsjWm",
        "b_AkQKPg8Dp4",
        "jqskZI6H-cZD",
        "LMFmjyOG9ckt",
        "I2f9Jkwrvg3E",
        "2gXrcKGsU-tt",
        "JSBDC1UTax_A",
        "ilO8Nz4mhRf-",
        "5IsHfAZ6miIs",
        "ApJkqPCHIvSf",
        "Rg5EFNtza-7K",
        "mBPNMYBR3isk"
      ],
      "authorship_tag": "ABX9TyPsL+lykLXrJgeCGG2JFh3Z",
      "include_colab_link": true
    },
    "kernelspec": {
      "display_name": "Python 3",
      "name": "python3"
    },
    "language_info": {
      "name": "python"
    }
  },
  "cells": [
    {
      "cell_type": "markdown",
      "metadata": {
        "id": "view-in-github",
        "colab_type": "text"
      },
      "source": [
        "<a href=\"https://colab.research.google.com/github/PaulaBergamasco/BCI/blob/main/tp4.ipynb\" target=\"_parent\"><img src=\"https://colab.research.google.com/assets/colab-badge.svg\" alt=\"Open In Colab\"/></a>"
      ]
    },
    {
      "cell_type": "markdown",
      "metadata": {
        "id": "TCFpt6rbtkU0"
      },
      "source": [
        "##CARGA DE DATOS"
      ]
    },
    {
      "cell_type": "code",
      "metadata": {
        "id": "yThACaElMEBf",
        "colab": {
          "base_uri": "https://localhost:8080/"
        },
        "outputId": "fac7ab61-546c-42cd-91f3-eaa00cfca459"
      },
      "source": [
        "pip install pyforest"
      ],
      "execution_count": null,
      "outputs": [
        {
          "output_type": "stream",
          "name": "stdout",
          "text": [
            "Requirement already satisfied: pyforest in /usr/local/lib/python3.7/dist-packages (1.1.0)\n"
          ]
        }
      ]
    },
    {
      "cell_type": "code",
      "metadata": {
        "id": "f49acce9"
      },
      "source": [
        "from pathlib import Path\n",
        "import numpy as np\n",
        "import pyforest\n",
        "from typing import Callable\n",
        "import scipy\n",
        "import scipy.signal as sgn\n",
        "import matplotlib.pyplot as plt"
      ],
      "execution_count": null,
      "outputs": []
    },
    {
      "cell_type": "code",
      "metadata": {
        "id": "pDALrQlvTG2Q"
      },
      "source": [
        "#utils\n",
        "import itertools\n",
        "import numpy as np\n",
        "import pandas as pd\n",
        "from csv import reader\n",
        "from pathlib import Path\n",
        "from scipy import signal\n",
        "\n",
        "\n",
        "def has_metadata(csv_path):\n",
        "    f = open(csv_path, newline='')\n",
        "    csv_reader = reader(f)\n",
        "    return True if next(csv_reader)[0] == '%OpenBCI Raw EEG Data' else False\n",
        "\n",
        "\n",
        "def raw_read_bci_csv(csv_path):\n",
        "    csv_reader = reader(open(csv_path, newline=''))\n",
        "    n_lines = 10 if next(csv_reader)[0] == '%OpenBCI Raw EEG Data' else 0\n",
        "    column_names = [\n",
        "        'sample_index', 'ch0', 'ch1', 'ch2', 'ch3', 'acc0',\n",
        "        'acc1', 'acc2', 'label', 'provided_time', 'timestamp'\n",
        "    ]\n",
        "    dataset = pd.read_csv(csv_path, skiprows=n_lines, index_col=False, names=column_names)\n",
        "    sample_rate = 200.\n",
        "    dataset['time'] = dataset.index.values/sample_rate\n",
        "    return dataset\n",
        "\n",
        "\n",
        "def clean_read_bci_csv(csv_path):\n",
        "    dataset = raw_read_bci_csv(csv_path)\n",
        "    dataset.drop(columns=['sample_index', 'acc0', 'acc1', 'acc2', 'provided_time', 'timestamp'], inplace=True)\n",
        "    return dataset\n",
        "\n",
        "\n",
        "def add_sub_label(dataset):\n",
        "    labels = dataset.label.unique().tolist()\n",
        "    for label in labels:\n",
        "        sample_idx = dataset.loc[dataset.label == label].index.values\n",
        "        gap_btn_idx = sample_idx[1:] - sample_idx[:-1]\n",
        "        selected_idx = np.insert((gap_btn_idx != 1), 0, True)\n",
        "        desired_idx_bottom = sample_idx[selected_idx]\n",
        "        selected_idx = np.append(selected_idx[1:], True)\n",
        "        desired_idx_top = sample_idx[selected_idx]\n",
        "        for k, (start, stop) in enumerate(zip(desired_idx_bottom, desired_idx_top)):\n",
        "            selection = (dataset.index.values >= start) & (dataset.index.values <= stop)\n",
        "            dataset.loc[selection, 'sub_label'] = f'{label}-{k}'\n",
        "    return dataset\n",
        "\n",
        "\n",
        "def detrend_channels(dataset, mode='both', window=200):\n",
        "    if mode in ['global', 'both']:\n",
        "        detrend_global = dataset.copy()\n",
        "    if mode in ['both', 'local']:\n",
        "        detrend_local = dataset.copy()\n",
        "    for subject in dataset.subject.unique():\n",
        "        selection = (dataset.subject == subject)\n",
        "        for session in dataset.loc[selection, 'session'].unique():\n",
        "            selection2 = selection & (dataset.session == session)\n",
        "            if mode in ['global', 'both']:\n",
        "                for ch in ['ch0', 'ch1', 'ch2', 'ch3']:\n",
        "                    y = dataset.loc[selection2, ch].values\n",
        "                    detrend_global.loc[selection2, ch] = signal.detrend(y)\n",
        "            if mode in ['both', 'local']:\n",
        "                for ch in ['ch0', 'ch1', 'ch2', 'ch3']:\n",
        "                    index = dataset.loc[selection2].index.tolist()\n",
        "                    iters = [iter(index)] * window\n",
        "                    for k, index_set in enumerate(itertools.zip_longest(*iters)):\n",
        "                        if None in index_set:\n",
        "                            index_set = list(filter(None, index_set))\n",
        "                        selection3 = selection2 & dataset.index.isin(index_set)\n",
        "                        y = dataset.loc[selection3, ch].values\n",
        "                        detrend_local.loc[selection3, ch] = signal.detrend(y)\n",
        "    if mode == 'global':\n",
        "        return detrend_global\n",
        "    if mode == 'local':\n",
        "        return detrend_local\n",
        "    else:\n",
        "        return detrend_global, detrend_local\n",
        "\n",
        "\n",
        "def read_all_datasets(csvs_path: Path):\n",
        "    complete_dataset = pd.DataFrame()\n",
        "    for csv_path in csvs_path.iterdir():\n",
        "        dataset = clean_read_bci_csv(csv_path)\n",
        "        dataset = add_sub_label(dataset)\n",
        "        dataset['subject'] = csv_path.name[:2]\n",
        "        dataset['session'] = csv_path.name[3]\n",
        "        dataset['sub_sess'] = dataset.subject + '-' + dataset.session\n",
        "        complete_dataset = pd.concat([complete_dataset, dataset])\n",
        "    return complete_dataset\n",
        "\n",
        "\n",
        "def naif_fft_features(signal_matrix):\n",
        "    N = signal_matrix.shape[1]\n",
        "    dt = 1/200\n",
        "    T = N*dt\n",
        "    fft = np.fft.rfft(signal_matrix)\n",
        "    Sxx = np.real(((2*dt**2)/T)*fft*fft.conj())\n",
        "    return Sxx\n"
      ],
      "execution_count": null,
      "outputs": []
    },
    {
      "cell_type": "code",
      "metadata": {
        "id": "z2lv74ziTMiz"
      },
      "source": [
        "def filtered_fft_features(signal_matrix):\n",
        "    N = signal_matrix.shape[1]\n",
        "    dt = 1/200\n",
        "    T = N*dt\n",
        "    sf = 200\n",
        "    Q = 30\n",
        "    f_notch = 50\n",
        "    b_notch, a_notch = sgn.iirnotch(w0=f_notch, Q=Q, fs=sf)\n",
        "    sig_notch = sgn.filtfilt(b_notch, a_notch, signal_matrix, axis=1)\n",
        "\n",
        "    #Ahora creamos el filtro pasabanda Butterworth\n",
        "    f_nq = sf/2\n",
        "    f_low = 11.5\n",
        "    f_high = 35\n",
        "    order = 4\n",
        "    b_band, a_band = sgn.iirfilter(\n",
        "        N=order, Wn=[f_low/f_nq, f_high/f_nq], btype=\"bandpass\", ftype=\"butter\"\n",
        "    )\n",
        "    sig_filt = sgn.filtfilt(b_band, a_band, sig_notch, axis=1)\n",
        "\n",
        "    fft = np.fft.rfft(sig_filt)\n",
        "    Sxx = np.real(((2*dt**2)/T)*fft*fft.conj())\n",
        "   \n",
        "    return Sxx"
      ],
      "execution_count": null,
      "outputs": []
    },
    {
      "cell_type": "code",
      "metadata": {
        "id": "fslrZTlkTS42"
      },
      "source": [
        "class BCIDataset():\n",
        "    def __init__(\n",
        "        self, \n",
        "        csvs_path, \n",
        "        subject: str = 'all', \n",
        "        session: str = 'all',\n",
        "        channel: str = 'all', \n",
        "        overlapping_fraction: float = 1/3, \n",
        "        window_size: int = 900,\n",
        "        feature_extractor: Callable = naif_fft_features\n",
        "    ):\n",
        "        '''\n",
        "        Object containing all examples from a time series from the dataset.\n",
        "        Args:\n",
        "            csvs_path (str): path al directorio donde estan los csv de los datos\n",
        "            subject (str): sujeto a estudiar.\n",
        "                Si se indica 'all' el dataset final generado tendrá ejemplos de todos los sujetos\n",
        "            session (str): sesión a estudiar del sujeto seleccionado.\n",
        "                si se indica 'all'  el dataset final generado tendrá ejemplos de todas las sesiones\n",
        "            channel (str): 'ch0', 'ch1', 'ch2', 'ch3'. Si se indica 'all', los ejemplos serán la\n",
        "                concatenación de los 4 canales.\n",
        "            overlapping_fraction (float): porcentaje de desplazamiento de la \"ventana\" que hace el ejemplo\n",
        "            window_size (int): tamaño de la ventana de tiempo que hace a un ejemplo (en muestras).\n",
        "            feature_extractor (func): Función de extracción de features, le ingresa un arreglo\n",
        "                (ejemplos en las filas, muestras en las columnas) y devuelve un arreglo (ejemplos en\n",
        "                las filas y features en las columnas)\n",
        "        '''\n",
        "        self.csvs_path = Path(csvs_path)\n",
        "        self.channel = channel\n",
        "        self.parts = int(1 / overlapping_fraction)\n",
        "        self.fraction = 1 / self.parts\n",
        "        self.ws = window_size\n",
        "        self.subject = subject\n",
        "        self.session = session\n",
        "        self.channels = ['ch0','ch1','ch2','ch3']\n",
        "        self.feature_extractor = feature_extractor\n",
        "        self.complete_dataset = read_all_datasets(self.csvs_path)\n",
        "        \n",
        "        self.complete_examples_signal, self.complete_examples_features, \\\n",
        "        self.complete_labels, self.complete_metadata = \\\n",
        "            self.generate_examples()\n",
        "        \n",
        "    def generate_examples(self):\n",
        "        # For each session generate the signal examples,\n",
        "        # the feature extraction examples and labels arrays\n",
        "        complete_examples_signal, complete_examples_features = [], []\n",
        "        complete_labels, complete_metadata = [], []\n",
        "        \n",
        "        for subject in self.complete_dataset.subject.unique():\n",
        "            # Just load the selected subject\n",
        "            if self.subject != 'all' and subject != self.subject:\n",
        "                continue\n",
        "            sessions = \\\n",
        "                self.complete_dataset.loc[self.complete_dataset.subject==subject].session.unique()\n",
        "            for session in sessions:\n",
        "                # Just load the selected session\n",
        "                if self.session != 'all' and session != self.session:\n",
        "                    continue\n",
        "                \n",
        "                print(f'Processing subject: {subject} - session: {session}...')\n",
        "                \n",
        "                # Generate a subset of the dataset only with the desired rows\n",
        "                selection = self.complete_dataset.loc[\n",
        "                    (self.complete_dataset.subject==subject) &\n",
        "                    (self.complete_dataset.session==session)\n",
        "                ]\n",
        "                \n",
        "                # Standarize length of the array to a multiple to window size\n",
        "                labels = selection.label.values\n",
        "                n_rows = labels.shape[0] // self.ws\n",
        "                labels = labels[: n_rows * self.ws]\n",
        "\n",
        "                # Generate examples from the signal\n",
        "                n_examples = n_rows * self.parts - (self.parts - 1)\n",
        "                examples = np.empty((n_examples, self.ws))\n",
        "                most_frec_labels = np.empty((n_examples, self.ws))\n",
        "                times = np.empty((n_examples, self.ws))\n",
        "                \n",
        "                concat_ch_examples_signal, concat_ch_examples_features = [], []\n",
        "\n",
        "                for k, ch in enumerate(self.channels):\n",
        "                    # Use the four channels or just one\n",
        "                    if self.channel != 'all' and self.channel != ch:\n",
        "                        continue\n",
        "                    \n",
        "                    # Standarize length of the signal to a multiple to window size\n",
        "                    signal = selection[ch].values\n",
        "                    signal = signal[: n_rows * self.ws]\n",
        "                    time = selection.time.values\n",
        "                    time = time[: n_rows * self.ws]\n",
        "\n",
        "                    # Increase the number of examples by overlapping the windows\n",
        "                    for part in range(self.parts):\n",
        "                        \n",
        "                        # Find the place in the output array for each example\n",
        "                        position = np.arange(part, n_examples, self.parts)\n",
        "                        #position = position if part == 0 else position[:-part]\n",
        "\n",
        "                        # Crop the signal according to the window size and overlap\n",
        "                        start = int(self.ws / self.parts) * part\n",
        "                        end = -int(self.ws - (self.ws / self.parts) * part)\n",
        "                        end = end if part!=0 else signal.shape[0]\n",
        "                        subset_signal = signal[start:end]\n",
        "                        subset_labels = labels[start:end]\n",
        "                        subset_times = time[start:end]\n",
        "\n",
        "                        # Generate the examples\n",
        "                        n_rows_ = int(subset_signal.shape[0]/self.ws)\n",
        "                        examples[position, :] = subset_signal.reshape((n_rows_, self.ws))\n",
        "                        most_frec_labels[position, :] = subset_labels.reshape((n_rows_, self.ws))\n",
        "                        times[position, :] = subset_times.reshape((n_rows_, self.ws))\n",
        "                    \n",
        "                    # Obtain most frequent label\n",
        "                    labels_ = scipy.stats.mode(most_frec_labels, axis=1).mode\n",
        "                    labels_temp = scipy.stats.mode(most_frec_labels, axis=1).count\n",
        "                    pureness = labels_temp == self.ws\n",
        "                    # Get first and last time of the window\n",
        "                    times_ = np.asarray([np.min(times, axis=1), np.max(times, axis=1)]).T\n",
        "                    # Extract features\n",
        "                    features = self.feature_extractor(examples)\n",
        "\n",
        "                    concat_ch_examples_signal.append(examples.copy())\n",
        "                    concat_ch_examples_features.append(features)\n",
        "\n",
        "                concat_ch_examples_signal = np.concatenate(concat_ch_examples_signal, axis=1)\n",
        "                concat_ch_examples_features = np.concatenate(concat_ch_examples_features, axis=1)\n",
        "\n",
        "                complete_examples_signal.append(concat_ch_examples_signal)\n",
        "                complete_examples_features.append(concat_ch_examples_features)\n",
        "                complete_labels.append(labels_)\n",
        "                lt = len(times_)\n",
        "                metadata_ = np.concatenate(\n",
        "                    [pureness, times_, np.repeat(subject, lt)[:,None], np.repeat(session, lt)[:,None]],\n",
        "                    axis=1\n",
        "                )\n",
        "                complete_metadata.append(metadata_)\n",
        "\n",
        "        complete_examples_signal = np.concatenate(complete_examples_signal)\n",
        "        complete_examples_features = np.concatenate(complete_examples_features)\n",
        "        complete_labels = np.concatenate(complete_labels)\n",
        "        complete_metadata = np.concatenate(complete_metadata)\n",
        "        \n",
        "        return complete_examples_signal, complete_examples_features, complete_labels, complete_metadata\n",
        "    \n",
        "    def __len__(self):\n",
        "        return self.complete_examples_signal.shape[0]\n",
        "    \n",
        "    def __getitem__(self, idx):\n",
        "        return {\n",
        "            'signal': self.complete_examples_signal[idx,:],\n",
        "            'features': self.complete_examples_features[idx,:],\n",
        "            'label': self.complete_labels[idx,:],\n",
        "            'metadata': self.complete_metadata[idx,:]\n",
        "        }\n",
        "\n",
        "    def get_X_signal(self):\n",
        "        return self.complete_examples_signal\n",
        "\n",
        "    def get_X_features(self):\n",
        "        return self.complete_examples_features\n",
        "\n",
        "    def get_Y(self):\n",
        "        return self.complete_labels\n",
        "\n",
        "    def get_metadata(self):\n",
        "        return self.complete_metadata"
      ],
      "execution_count": null,
      "outputs": []
    },
    {
      "cell_type": "code",
      "metadata": {
        "id": "1eiCufFcZD9u",
        "colab": {
          "base_uri": "https://localhost:8080/"
        },
        "outputId": "46617e51-e4ed-4d95-bb46-c8a9e4856b73"
      },
      "source": [
        "! git clone https://github.com/joaco18/MetoriaBCI"
      ],
      "execution_count": null,
      "outputs": [
        {
          "output_type": "stream",
          "name": "stdout",
          "text": [
            "fatal: destination path 'MetoriaBCI' already exists and is not an empty directory.\n"
          ]
        }
      ]
    },
    {
      "cell_type": "code",
      "metadata": {
        "id": "hCCjTutKzz_i"
      },
      "source": [
        "import zipfile\n",
        "\n",
        "with zipfile.ZipFile('/content/MetoriaBCI/Database.zip', 'r') as zip_ref:\n",
        "    zip_ref.extractall('/content/tmp')"
      ],
      "execution_count": null,
      "outputs": []
    },
    {
      "cell_type": "code",
      "metadata": {
        "id": "0407ddcf",
        "colab": {
          "base_uri": "https://localhost:8080/"
        },
        "outputId": "091d1dfe-d00f-4940-a20b-6baa9d04891d"
      },
      "source": [
        "csvs_path = '/content/tmp'\n",
        "dataset = BCIDataset(csvs_path, overlapping_fraction=1/6, feature_extractor= filtered_fft_features)"
      ],
      "execution_count": null,
      "outputs": [
        {
          "output_type": "stream",
          "name": "stdout",
          "text": [
            "Processing subject: AA - session: 1...\n",
            "Processing subject: AA - session: 2...\n",
            "Processing subject: AA - session: 0...\n",
            "Processing subject: MA - session: 1...\n",
            "Processing subject: HA - session: 1...\n",
            "Processing subject: JA - session: 1...\n",
            "Processing subject: JA - session: 2...\n"
          ]
        }
      ]
    },
    {
      "cell_type": "markdown",
      "metadata": {
        "id": "OS6C4CAW_HHw"
      },
      "source": [
        "#BENCHMARKING"
      ]
    },
    {
      "cell_type": "code",
      "metadata": {
        "colab": {
          "base_uri": "https://localhost:8080/"
        },
        "id": "LAvA48gk_h7v",
        "outputId": "a5911309-9dcc-442e-9d31-997635a8cbbe"
      },
      "source": [
        "X= dataset.get_X_features()\n",
        "y= dataset.get_Y().astype(int)\n",
        "X.shape, y.shape"
      ],
      "execution_count": null,
      "outputs": [
        {
          "output_type": "execute_result",
          "data": {
            "text/plain": [
              "((4339, 1804), (4339, 1))"
            ]
          },
          "metadata": {},
          "execution_count": 9
        }
      ]
    },
    {
      "cell_type": "code",
      "metadata": {
        "id": "rzz-3_qP_KqN"
      },
      "source": [
        "random_target1 = np.random.choice(pd.Series(y.flatten()).unique(),y.shape[0])\n",
        "random_target2 = np.random.choice(pd.Series(y.flatten()).unique(),y.shape[0])\n",
        "random_target3 = np.random.choice(pd.Series(y.flatten()).unique(),y.shape[0])\n",
        "random_target4 = np.random.choice(pd.Series(y.flatten()).unique(),y.shape[0])\n",
        "random_target5 = np.random.choice(pd.Series(y.flatten()).unique(),y.shape[0])\n",
        "\n",
        "metrics= [random_target1, random_target2, random_target3, random_target4, random_target5]"
      ],
      "execution_count": null,
      "outputs": []
    },
    {
      "cell_type": "code",
      "metadata": {
        "id": "zbjBbxHQ_syT"
      },
      "source": [
        "accuracy= list()\n",
        "f1score= list()\n",
        "\n",
        "from sklearn.metrics import classification_report\n",
        "from sklearn.metrics import accuracy_score\n",
        "from sklearn.metrics import f1_score"
      ],
      "execution_count": null,
      "outputs": []
    },
    {
      "cell_type": "code",
      "metadata": {
        "colab": {
          "base_uri": "https://localhost:8080/"
        },
        "id": "lu6_MxsK-6j8",
        "outputId": "6c7df236-d4a9-459f-f0a5-723cb7b13ff1"
      },
      "source": [
        "for metric in metrics:\n",
        "  accuracy.append(accuracy_score(y, metric))\n",
        "\n",
        "for metric in metrics:\n",
        "  f1score.append(f1_score(y, metric, average='weighted'))\n",
        "\n",
        "print('Accuracy=', accuracy)\n",
        "print('F1Score=', f1score)"
      ],
      "execution_count": null,
      "outputs": [
        {
          "output_type": "stream",
          "name": "stdout",
          "text": [
            "Accuracy= [0.34800645309979256, 0.3309518322194054, 0.3360221249135746, 0.33740493201198435, 0.33625259276330954]\n",
            "F1Score= [0.37496086024282443, 0.35598259686200434, 0.3614530402987148, 0.36352356981061346, 0.36372684083293666]\n"
          ]
        }
      ]
    },
    {
      "cell_type": "code",
      "metadata": {
        "colab": {
          "base_uri": "https://localhost:8080/"
        },
        "id": "hwrfM50XC4aJ",
        "outputId": "ebdf8522-866f-4137-b1ff-8b5438a7dedc"
      },
      "source": [
        "print(max(accuracy))"
      ],
      "execution_count": null,
      "outputs": [
        {
          "output_type": "stream",
          "name": "stdout",
          "text": [
            "0.34800645309979256\n"
          ]
        }
      ]
    },
    {
      "cell_type": "code",
      "metadata": {
        "colab": {
          "base_uri": "https://localhost:8080/"
        },
        "id": "SSRDgs3rDo-2",
        "outputId": "5ac92b2f-255a-4ad9-8349-e40ba450119f"
      },
      "source": [
        "print(max(f1score))"
      ],
      "execution_count": null,
      "outputs": [
        {
          "output_type": "stream",
          "name": "stdout",
          "text": [
            "0.37496086024282443\n"
          ]
        }
      ]
    },
    {
      "cell_type": "markdown",
      "metadata": {
        "id": "66Ho2tAwK99O"
      },
      "source": [
        "#MODELOS"
      ]
    },
    {
      "cell_type": "code",
      "metadata": {
        "colab": {
          "base_uri": "https://localhost:8080/"
        },
        "id": "TkeP4LAKU07Q",
        "outputId": "bb7d3cb9-6f2c-4521-b828-2361472030e6"
      },
      "source": [
        "! git clone https://github.com/PaulaBergamasco/BCI"
      ],
      "execution_count": null,
      "outputs": [
        {
          "output_type": "stream",
          "name": "stdout",
          "text": [
            "fatal: destination path 'BCI' already exists and is not an empty directory.\n"
          ]
        }
      ]
    },
    {
      "cell_type": "markdown",
      "metadata": {
        "id": "oMPz4HJmsYnX"
      },
      "source": [
        "##PARTICION DE DATOS"
      ]
    },
    {
      "cell_type": "markdown",
      "metadata": {
        "id": "lksY14MPsjWm"
      },
      "source": [
        "###DATASET FEATURES TIME"
      ]
    },
    {
      "cell_type": "code",
      "metadata": {
        "id": "DMx1i-ljToYz"
      },
      "source": [
        "dataset_time=pd.read_csv('/content/BCI/df_time.csv')"
      ],
      "execution_count": null,
      "outputs": []
    },
    {
      "cell_type": "code",
      "metadata": {
        "colab": {
          "base_uri": "https://localhost:8080/"
        },
        "id": "XQwRagPqsseJ",
        "outputId": "1e6dbd18-6dbe-4d79-d44d-9fb4b0e5b6e6"
      },
      "source": [
        "X_time= dataset_time.iloc[:,:-1]\n",
        "y_time= dataset_time.iloc[:,-1].astype(int)\n",
        "X_time.shape, y_time.shape"
      ],
      "execution_count": null,
      "outputs": [
        {
          "output_type": "execute_result",
          "data": {
            "text/plain": [
              "((4339, 16), (4339,))"
            ]
          },
          "metadata": {},
          "execution_count": 97
        }
      ]
    },
    {
      "cell_type": "code",
      "metadata": {
        "id": "Q8XOy1TX8w-r"
      },
      "source": [
        "from sklearn.model_selection import train_test_split\n",
        "\n",
        "X_train_time, X_val_time, y_train_time, y_val_time = train_test_split(X_time, y_time, test_size=0.1, random_state=0)\n",
        "X_train_time, X_test_time, y_train_time, y_test_time = train_test_split(X_train_time, y_train_time, test_size=0.2, random_state=0)"
      ],
      "execution_count": null,
      "outputs": []
    },
    {
      "cell_type": "markdown",
      "metadata": {
        "id": "b_AkQKPg8Dp4"
      },
      "source": [
        "###DATASET FEATURES FRECUENCIA"
      ]
    },
    {
      "cell_type": "code",
      "metadata": {
        "id": "JBRX0lLPTRei"
      },
      "source": [
        "dataset_frec_max=pd.read_csv('/content/BCI/df_frec_max.csv')"
      ],
      "execution_count": null,
      "outputs": []
    },
    {
      "cell_type": "code",
      "metadata": {
        "colab": {
          "base_uri": "https://localhost:8080/"
        },
        "id": "L-D-J_MX8Dp5",
        "outputId": "641609ca-bc10-4632-d739-27a9f1e512fd"
      },
      "source": [
        "X_freq= dataset_frec_max.iloc[:,:-1]\n",
        "y_freq= dataset_frec_max.iloc[:,-1].astype(int)\n",
        "X_freq.shape, y_freq.shape"
      ],
      "execution_count": null,
      "outputs": [
        {
          "output_type": "execute_result",
          "data": {
            "text/plain": [
              "((4339, 4), (4339,))"
            ]
          },
          "metadata": {},
          "execution_count": 100
        }
      ]
    },
    {
      "cell_type": "code",
      "metadata": {
        "id": "CwDlLgL49N3u"
      },
      "source": [
        "X_train_freq, X_val_freq, y_train_freq, y_val_freq = train_test_split(X_freq, y_freq, test_size=0.10, random_state=0)\n",
        "X_train_freq, X_test_freq, y_train_freq, y_test_freq = train_test_split(X_train_freq, y_train_freq, test_size=0.20, random_state=0)"
      ],
      "execution_count": null,
      "outputs": []
    },
    {
      "cell_type": "markdown",
      "metadata": {
        "id": "jqskZI6H-cZD"
      },
      "source": [
        "###DATASET FEATURES AMPLITUD"
      ]
    },
    {
      "cell_type": "code",
      "metadata": {
        "id": "ZuGVLHAh-_8n"
      },
      "source": [
        "def filtered_fft_features_varias(signal_matrix):\n",
        "    N = signal_matrix.shape[1]\n",
        "    dt = 1/200\n",
        "    T = N*dt\n",
        "    sf = 200\n",
        "    Q = 30\n",
        "    f_notch = 50\n",
        "    b_notch, a_notch = sgn.iirnotch(w0=f_notch, Q=Q, fs=sf)\n",
        "    sig_notch = sgn.filtfilt(b_notch, a_notch, signal_matrix, axis=1)\n",
        "\n",
        "    #Ahora creamos el filtro pasabanda Butterworth\n",
        "    f_nq = sf/2\n",
        "    f_low = 11.5\n",
        "    f_high = 35\n",
        "    order = 4\n",
        "    b_band, a_band = sgn.iirfilter(\n",
        "        N=order, Wn=[f_low/f_nq, f_high/f_nq], btype=\"bandpass\", ftype=\"butter\"\n",
        "    )\n",
        "    sig_filt = sgn.filtfilt(b_band, a_band, sig_notch, axis=1)\n",
        "\n",
        "    fft = np.fft.rfft(sig_filt)\n",
        "    Sxx = np.real(((2*dt**2)/T)*fft*fft.conj())\n",
        "    mean= np.mean(Sxx, axis= 1)\n",
        "    ln= np.log (mean)\n",
        "    sxx_mean_value = ln.reshape((signal_matrix.shape[0], 1))\n",
        "    \n",
        "    max_sxx= np.argmax(Sxx, axis= 1)\n",
        "    lnm= np.log (max_sxx)\n",
        "    sxx_max_value = lnm.reshape((signal_matrix.shape[0], 1))\n",
        "\n",
        "    q95_ln= np.quantile (fft, 0.90, axis= 1)\n",
        "    q95_ln= np.log (q95_ln)\n",
        "    freq_q95_ln_value = q95_ln.reshape((signal_matrix.shape[0], 1))\n",
        "\n",
        "\n",
        "    return np.concatenate([sxx_mean_value, sxx_max_value, freq_q95_ln_value], axis = 1)\n"
      ],
      "execution_count": null,
      "outputs": []
    },
    {
      "cell_type": "code",
      "metadata": {
        "colab": {
          "base_uri": "https://localhost:8080/"
        },
        "id": "useL_GLK-aKG",
        "outputId": "aab1f65b-65de-4f77-ddec-1f6a226ed3ba"
      },
      "source": [
        "dataset_sxx= BCIDataset(csvs_path, subject='AA', overlapping_fraction= 1/6, feature_extractor= filtered_fft_features_varias) "
      ],
      "execution_count": null,
      "outputs": [
        {
          "output_type": "stream",
          "name": "stdout",
          "text": [
            "Processing subject: AA - session: 1...\n",
            "Processing subject: AA - session: 2...\n",
            "Processing subject: AA - session: 0...\n"
          ]
        }
      ]
    },
    {
      "cell_type": "code",
      "metadata": {
        "colab": {
          "base_uri": "https://localhost:8080/"
        },
        "id": "WPT_Hldf_NVH",
        "outputId": "fe929094-93a6-4bf8-d539-f5db7a6cd4bd"
      },
      "source": [
        "X_sxx= dataset_sxx.get_X_features().astype(float)\n",
        "y_sxx= dataset_sxx.get_Y().astype(int)\n",
        "X_sxx.shape, y_sxx.shape"
      ],
      "execution_count": null,
      "outputs": [
        {
          "output_type": "stream",
          "name": "stderr",
          "text": [
            "/usr/local/lib/python3.7/dist-packages/ipykernel_launcher.py:1: ComplexWarning: Casting complex values to real discards the imaginary part\n",
            "  \"\"\"Entry point for launching an IPython kernel.\n"
          ]
        },
        {
          "output_type": "execute_result",
          "data": {
            "text/plain": [
              "((1941, 12), (1941, 1))"
            ]
          },
          "metadata": {},
          "execution_count": 104
        }
      ]
    },
    {
      "cell_type": "code",
      "metadata": {
        "id": "6erS_Uzp_eqx"
      },
      "source": [
        "X_train_sxx, X_val_sxx, y_train_sxx, y_val_sxx = train_test_split(X_sxx, y_sxx, test_size=0.10, random_state=0)\n",
        "X_train_sxx, X_test_sxx, y_train_sxx, y_test_sxx = train_test_split(X_train_sxx, y_train_sxx, test_size=0.20, random_state=0)"
      ],
      "execution_count": null,
      "outputs": []
    },
    {
      "cell_type": "markdown",
      "metadata": {
        "id": "LMFmjyOG9ckt"
      },
      "source": [
        "###DATASET FEATURES FRECUENCIAS SELECTIVAS"
      ]
    },
    {
      "cell_type": "code",
      "metadata": {
        "id": "mAv7yreltNPZ"
      },
      "source": [
        "dataset_freq_select=pd.read_csv('/content/BCI/df_n2_mean.csv')"
      ],
      "execution_count": null,
      "outputs": []
    },
    {
      "cell_type": "code",
      "metadata": {
        "colab": {
          "base_uri": "https://localhost:8080/"
        },
        "id": "XOQ75zAFs-YT",
        "outputId": "744018cc-bb32-46d2-c2bb-52464429448d"
      },
      "source": [
        "X_freq_s= dataset_freq_select.iloc[:,:-1]\n",
        "y_freq_s= dataset_freq_select.iloc[:,-1].astype(int)\n",
        "X_freq_s.shape, y_freq_s.shape"
      ],
      "execution_count": null,
      "outputs": [
        {
          "output_type": "execute_result",
          "data": {
            "text/plain": [
              "((4339, 16), (4339,))"
            ]
          },
          "metadata": {},
          "execution_count": 107
        }
      ]
    },
    {
      "cell_type": "code",
      "metadata": {
        "id": "lmN5DvDgvUti"
      },
      "source": [
        "X_train_freq_s, X_val_freq_s, y_train_freq_s, y_val_freq_s = train_test_split(X_freq_s, y_freq_s, test_size=0.10, random_state=0)\n",
        "X_train_freq_s, X_test_freq_s, y_train_freq_s, y_test_freq_s = train_test_split(X_train_freq_s, y_train_freq_s, test_size=0.20, random_state=0)"
      ],
      "execution_count": null,
      "outputs": []
    },
    {
      "cell_type": "markdown",
      "metadata": {
        "id": "I2f9Jkwrvg3E"
      },
      "source": [
        "###DATASET FEATURES FRECUENCIAS SELECTIVAS PROMEDIOS"
      ]
    },
    {
      "cell_type": "code",
      "metadata": {
        "id": "jF-EttwZvg3E"
      },
      "source": [
        "dataset_freq_unif=pd.read_csv('/content/BCI/df_n2_mean_unificado.csv')"
      ],
      "execution_count": null,
      "outputs": []
    },
    {
      "cell_type": "code",
      "metadata": {
        "colab": {
          "base_uri": "https://localhost:8080/"
        },
        "id": "vfbXXsga1rgf",
        "outputId": "cd86b9d8-a29f-4975-c218-170caada4cbd"
      },
      "source": [
        "dataset_freq_unif"
      ],
      "execution_count": null,
      "outputs": [
        {
          "output_type": "execute_result",
          "data": {
            "text/html": [
              "<div>\n",
              "<style scoped>\n",
              "    .dataframe tbody tr th:only-of-type {\n",
              "        vertical-align: middle;\n",
              "    }\n",
              "\n",
              "    .dataframe tbody tr th {\n",
              "        vertical-align: top;\n",
              "    }\n",
              "\n",
              "    .dataframe thead th {\n",
              "        text-align: right;\n",
              "    }\n",
              "</style>\n",
              "<table border=\"1\" class=\"dataframe\">\n",
              "  <thead>\n",
              "    <tr style=\"text-align: right;\">\n",
              "      <th></th>\n",
              "      <th>12.5</th>\n",
              "      <th>16.5</th>\n",
              "      <th>25.0</th>\n",
              "      <th>33.0</th>\n",
              "      <th>label</th>\n",
              "    </tr>\n",
              "  </thead>\n",
              "  <tbody>\n",
              "    <tr>\n",
              "      <th>0</th>\n",
              "      <td>337.4000</td>\n",
              "      <td>287.5875</td>\n",
              "      <td>301.7750</td>\n",
              "      <td>183.2750</td>\n",
              "      <td>99.0</td>\n",
              "    </tr>\n",
              "    <tr>\n",
              "      <th>1</th>\n",
              "      <td>380.1000</td>\n",
              "      <td>238.1250</td>\n",
              "      <td>329.2625</td>\n",
              "      <td>263.5375</td>\n",
              "      <td>99.0</td>\n",
              "    </tr>\n",
              "    <tr>\n",
              "      <th>2</th>\n",
              "      <td>457.2000</td>\n",
              "      <td>181.5750</td>\n",
              "      <td>399.4125</td>\n",
              "      <td>252.4625</td>\n",
              "      <td>99.0</td>\n",
              "    </tr>\n",
              "    <tr>\n",
              "      <th>3</th>\n",
              "      <td>234.5250</td>\n",
              "      <td>189.5750</td>\n",
              "      <td>350.8125</td>\n",
              "      <td>245.7625</td>\n",
              "      <td>99.0</td>\n",
              "    </tr>\n",
              "    <tr>\n",
              "      <th>4</th>\n",
              "      <td>205.3125</td>\n",
              "      <td>229.6875</td>\n",
              "      <td>286.2000</td>\n",
              "      <td>393.8375</td>\n",
              "      <td>99.0</td>\n",
              "    </tr>\n",
              "    <tr>\n",
              "      <th>...</th>\n",
              "      <td>...</td>\n",
              "      <td>...</td>\n",
              "      <td>...</td>\n",
              "      <td>...</td>\n",
              "      <td>...</td>\n",
              "    </tr>\n",
              "    <tr>\n",
              "      <th>4334</th>\n",
              "      <td>131.1625</td>\n",
              "      <td>100.4500</td>\n",
              "      <td>73.0000</td>\n",
              "      <td>117.7500</td>\n",
              "      <td>99.0</td>\n",
              "    </tr>\n",
              "    <tr>\n",
              "      <th>4335</th>\n",
              "      <td>152.4375</td>\n",
              "      <td>161.5375</td>\n",
              "      <td>84.8625</td>\n",
              "      <td>84.0375</td>\n",
              "      <td>99.0</td>\n",
              "    </tr>\n",
              "    <tr>\n",
              "      <th>4336</th>\n",
              "      <td>132.4000</td>\n",
              "      <td>220.1750</td>\n",
              "      <td>126.2625</td>\n",
              "      <td>49.0875</td>\n",
              "      <td>99.0</td>\n",
              "    </tr>\n",
              "    <tr>\n",
              "      <th>4337</th>\n",
              "      <td>137.7375</td>\n",
              "      <td>159.1875</td>\n",
              "      <td>93.6250</td>\n",
              "      <td>59.2250</td>\n",
              "      <td>99.0</td>\n",
              "    </tr>\n",
              "    <tr>\n",
              "      <th>4338</th>\n",
              "      <td>133.4750</td>\n",
              "      <td>159.3375</td>\n",
              "      <td>103.4125</td>\n",
              "      <td>74.8000</td>\n",
              "      <td>99.0</td>\n",
              "    </tr>\n",
              "  </tbody>\n",
              "</table>\n",
              "<p>4339 rows × 5 columns</p>\n",
              "</div>"
            ],
            "text/plain": [
              "          12.5      16.5      25.0      33.0  label\n",
              "0     337.4000  287.5875  301.7750  183.2750   99.0\n",
              "1     380.1000  238.1250  329.2625  263.5375   99.0\n",
              "2     457.2000  181.5750  399.4125  252.4625   99.0\n",
              "3     234.5250  189.5750  350.8125  245.7625   99.0\n",
              "4     205.3125  229.6875  286.2000  393.8375   99.0\n",
              "...        ...       ...       ...       ...    ...\n",
              "4334  131.1625  100.4500   73.0000  117.7500   99.0\n",
              "4335  152.4375  161.5375   84.8625   84.0375   99.0\n",
              "4336  132.4000  220.1750  126.2625   49.0875   99.0\n",
              "4337  137.7375  159.1875   93.6250   59.2250   99.0\n",
              "4338  133.4750  159.3375  103.4125   74.8000   99.0\n",
              "\n",
              "[4339 rows x 5 columns]"
            ]
          },
          "metadata": {},
          "execution_count": 110
        }
      ]
    },
    {
      "cell_type": "code",
      "metadata": {
        "colab": {
          "base_uri": "https://localhost:8080/"
        },
        "id": "4BqLA80Dvg3E",
        "outputId": "763a41e9-8ece-4940-e220-11bd434a5187"
      },
      "source": [
        "X_freq_u= dataset_freq_unif.iloc[:,:-1]\n",
        "y_freq_u= dataset_freq_unif.iloc[:,-1].astype(int)\n",
        "X_freq_u.shape, y_freq_u.shape"
      ],
      "execution_count": null,
      "outputs": [
        {
          "output_type": "execute_result",
          "data": {
            "text/plain": [
              "((4339, 4), (4339,))"
            ]
          },
          "metadata": {},
          "execution_count": 111
        }
      ]
    },
    {
      "cell_type": "code",
      "metadata": {
        "id": "1DQsycjEvg3E"
      },
      "source": [
        "X_train_freq_u, X_val_freq_u, y_train_freq_u, y_val_freq_u = train_test_split(X_freq_u, y_freq_u, test_size=0.10, random_state=0)\n",
        "X_train_freq_u, X_test_freq_u, y_train_freq_u, y_test_freq_u = train_test_split(X_train_freq_u, y_train_freq_u,test_size=0.20, random_state=0)"
      ],
      "execution_count": null,
      "outputs": []
    },
    {
      "cell_type": "markdown",
      "metadata": {
        "id": "EoRNVVAKN_Ns"
      },
      "source": [
        "###DATASET MENTORES"
      ]
    },
    {
      "cell_type": "code",
      "metadata": {
        "id": "4fgz2fXoOKSA"
      },
      "source": [
        "dataset_mentores=pd.read_csv('/content/BCI/df_mentores.csv')"
      ],
      "execution_count": null,
      "outputs": []
    },
    {
      "cell_type": "code",
      "metadata": {
        "colab": {
          "base_uri": "https://localhost:8080/"
        },
        "id": "IE6euszJOKSA",
        "outputId": "b80c90b0-777c-49d9-e8f1-5413306db133"
      },
      "source": [
        "dataset_mentores"
      ],
      "execution_count": null,
      "outputs": [
        {
          "output_type": "execute_result",
          "data": {
            "text/html": [
              "<div>\n",
              "<style scoped>\n",
              "    .dataframe tbody tr th:only-of-type {\n",
              "        vertical-align: middle;\n",
              "    }\n",
              "\n",
              "    .dataframe tbody tr th {\n",
              "        vertical-align: top;\n",
              "    }\n",
              "\n",
              "    .dataframe thead th {\n",
              "        text-align: right;\n",
              "    }\n",
              "</style>\n",
              "<table border=\"1\" class=\"dataframe\">\n",
              "  <thead>\n",
              "    <tr style=\"text-align: right;\">\n",
              "      <th></th>\n",
              "      <th>main1</th>\n",
              "      <th>main2</th>\n",
              "      <th>harm1</th>\n",
              "      <th>harm2</th>\n",
              "      <th>labels</th>\n",
              "    </tr>\n",
              "  </thead>\n",
              "  <tbody>\n",
              "    <tr>\n",
              "      <th>0</th>\n",
              "      <td>326.972899</td>\n",
              "      <td>424.740004</td>\n",
              "      <td>114.590462</td>\n",
              "      <td>201.167890</td>\n",
              "      <td>2.0</td>\n",
              "    </tr>\n",
              "    <tr>\n",
              "      <th>1</th>\n",
              "      <td>357.930372</td>\n",
              "      <td>499.655167</td>\n",
              "      <td>168.664040</td>\n",
              "      <td>133.872709</td>\n",
              "      <td>2.0</td>\n",
              "    </tr>\n",
              "    <tr>\n",
              "      <th>2</th>\n",
              "      <td>345.581598</td>\n",
              "      <td>618.271127</td>\n",
              "      <td>132.024337</td>\n",
              "      <td>122.745340</td>\n",
              "      <td>2.0</td>\n",
              "    </tr>\n",
              "    <tr>\n",
              "      <th>3</th>\n",
              "      <td>430.210302</td>\n",
              "      <td>751.190187</td>\n",
              "      <td>122.416609</td>\n",
              "      <td>170.167454</td>\n",
              "      <td>2.0</td>\n",
              "    </tr>\n",
              "    <tr>\n",
              "      <th>4</th>\n",
              "      <td>476.193835</td>\n",
              "      <td>886.782840</td>\n",
              "      <td>179.118974</td>\n",
              "      <td>186.464999</td>\n",
              "      <td>2.0</td>\n",
              "    </tr>\n",
              "    <tr>\n",
              "      <th>...</th>\n",
              "      <td>...</td>\n",
              "      <td>...</td>\n",
              "      <td>...</td>\n",
              "      <td>...</td>\n",
              "      <td>...</td>\n",
              "    </tr>\n",
              "    <tr>\n",
              "      <th>3932</th>\n",
              "      <td>242.085407</td>\n",
              "      <td>369.680405</td>\n",
              "      <td>461.675725</td>\n",
              "      <td>157.212589</td>\n",
              "      <td>1.0</td>\n",
              "    </tr>\n",
              "    <tr>\n",
              "      <th>3933</th>\n",
              "      <td>343.913162</td>\n",
              "      <td>379.645024</td>\n",
              "      <td>429.955552</td>\n",
              "      <td>164.178137</td>\n",
              "      <td>1.0</td>\n",
              "    </tr>\n",
              "    <tr>\n",
              "      <th>3934</th>\n",
              "      <td>311.704362</td>\n",
              "      <td>347.813195</td>\n",
              "      <td>517.043082</td>\n",
              "      <td>164.727626</td>\n",
              "      <td>1.0</td>\n",
              "    </tr>\n",
              "    <tr>\n",
              "      <th>3935</th>\n",
              "      <td>320.424090</td>\n",
              "      <td>344.494940</td>\n",
              "      <td>465.871418</td>\n",
              "      <td>168.922916</td>\n",
              "      <td>1.0</td>\n",
              "    </tr>\n",
              "    <tr>\n",
              "      <th>3936</th>\n",
              "      <td>300.775289</td>\n",
              "      <td>294.073839</td>\n",
              "      <td>327.687270</td>\n",
              "      <td>234.293193</td>\n",
              "      <td>1.0</td>\n",
              "    </tr>\n",
              "  </tbody>\n",
              "</table>\n",
              "<p>3937 rows × 5 columns</p>\n",
              "</div>"
            ],
            "text/plain": [
              "           main1       main2       harm1       harm2  labels\n",
              "0     326.972899  424.740004  114.590462  201.167890     2.0\n",
              "1     357.930372  499.655167  168.664040  133.872709     2.0\n",
              "2     345.581598  618.271127  132.024337  122.745340     2.0\n",
              "3     430.210302  751.190187  122.416609  170.167454     2.0\n",
              "4     476.193835  886.782840  179.118974  186.464999     2.0\n",
              "...          ...         ...         ...         ...     ...\n",
              "3932  242.085407  369.680405  461.675725  157.212589     1.0\n",
              "3933  343.913162  379.645024  429.955552  164.178137     1.0\n",
              "3934  311.704362  347.813195  517.043082  164.727626     1.0\n",
              "3935  320.424090  344.494940  465.871418  168.922916     1.0\n",
              "3936  300.775289  294.073839  327.687270  234.293193     1.0\n",
              "\n",
              "[3937 rows x 5 columns]"
            ]
          },
          "metadata": {},
          "execution_count": 114
        }
      ]
    },
    {
      "cell_type": "code",
      "metadata": {
        "colab": {
          "base_uri": "https://localhost:8080/"
        },
        "id": "sKWQpjM1OKSB",
        "outputId": "af33d6c2-89bc-4f4b-80a8-b2352de82dcb"
      },
      "source": [
        "X_m= dataset_mentores.iloc[:,:-1]\n",
        "y_m= dataset_mentores.iloc[:,-1].astype(int)\n",
        "X_m.shape, y_m.shape"
      ],
      "execution_count": null,
      "outputs": [
        {
          "output_type": "execute_result",
          "data": {
            "text/plain": [
              "((3937, 4), (3937,))"
            ]
          },
          "metadata": {},
          "execution_count": 115
        }
      ]
    },
    {
      "cell_type": "code",
      "metadata": {
        "id": "DTz7GwhlOKSB"
      },
      "source": [
        "X_train_m, X_val_m, y_train_m, y_val_m = train_test_split(X_m, y_m, test_size=0.10, random_state=0)\n",
        "X_train_m, X_test_m, y_train_m, y_test_m = train_test_split(X_train_m, y_train_m,test_size=0.20, random_state=0)"
      ],
      "execution_count": null,
      "outputs": []
    },
    {
      "cell_type": "markdown",
      "metadata": {
        "id": "2gXrcKGsU-tt"
      },
      "source": [
        "##MODELO 1: NAIVE BAYES"
      ]
    },
    {
      "cell_type": "code",
      "metadata": {
        "id": "2MJODhH6Xs2X"
      },
      "source": [
        "from sklearn.metrics import f1_score\n",
        "from sklearn.metrics import accuracy_score\n",
        "from sklearn.naive_bayes import  MultinomialNB"
      ],
      "execution_count": null,
      "outputs": []
    },
    {
      "cell_type": "code",
      "metadata": {
        "colab": {
          "base_uri": "https://localhost:8080/"
        },
        "id": "rVMIeDsLGVAq",
        "outputId": "424b4ca8-6715-41cc-dca1-b872a9edd49b"
      },
      "source": [
        "#FEATURES FRECUENCIA\n",
        "nb0 = MultinomialNB()\n",
        "nb0.fit(X_train_freq, y_train_freq)\n",
        "print('F1Score=',f1_score(y_val_freq, nb0.predict(X_val_freq), average='weighted'))\n",
        "print('Accuracy=',accuracy_score(y_val_freq, nb0.predict(X_val_freq)))\n",
        "print('')\n",
        "print(classification_report(y_val_freq, nb0.predict(X_val_freq)))"
      ],
      "execution_count": null,
      "outputs": [
        {
          "output_type": "stream",
          "name": "stdout",
          "text": [
            "F1Score= 0.46580645161290324\n",
            "Accuracy= 0.6129032258064516\n",
            "\n",
            "              precision    recall  f1-score   support\n",
            "\n",
            "           1       0.00      0.00      0.00        68\n",
            "           2       0.00      0.00      0.00       100\n",
            "          99       0.61      1.00      0.76       266\n",
            "\n",
            "    accuracy                           0.61       434\n",
            "   macro avg       0.20      0.33      0.25       434\n",
            "weighted avg       0.38      0.61      0.47       434\n",
            "\n"
          ]
        },
        {
          "output_type": "stream",
          "name": "stderr",
          "text": [
            "/usr/local/lib/python3.7/dist-packages/sklearn/metrics/_classification.py:1272: UndefinedMetricWarning: Precision and F-score are ill-defined and being set to 0.0 in labels with no predicted samples. Use `zero_division` parameter to control this behavior.\n",
            "  _warn_prf(average, modifier, msg_start, len(result))\n"
          ]
        }
      ]
    },
    {
      "cell_type": "code",
      "metadata": {
        "colab": {
          "base_uri": "https://localhost:8080/"
        },
        "id": "IXMRrxVSWGrj",
        "outputId": "db1a5a41-6eb5-4883-eb63-8f14daec3428"
      },
      "source": [
        "#FEATURES FRECUENCIA SELECTIVA\n",
        "nb1 = MultinomialNB()\n",
        "nb1.fit(X_train_freq_s, y_train_freq_s)\n",
        "print('F1Score=', f1_score(y_val_freq_s, nb1.predict(X_val_freq_s), average='weighted'))\n",
        "print('Accuracy=', accuracy_score(y_val_freq_s, nb1.predict(X_val_freq_s)))\n",
        "print('')\n",
        "print(classification_report(y_val_freq_s, nb1.predict(X_val_freq_s)))"
      ],
      "execution_count": null,
      "outputs": [
        {
          "output_type": "stream",
          "name": "stdout",
          "text": [
            "F1Score= 0.627869926543784\n",
            "Accuracy= 0.6221198156682027\n",
            "\n",
            "              precision    recall  f1-score   support\n",
            "\n",
            "           1       0.54      0.79      0.64        68\n",
            "           2       0.46      0.66      0.55       100\n",
            "          99       0.78      0.56      0.66       266\n",
            "\n",
            "    accuracy                           0.62       434\n",
            "   macro avg       0.60      0.67      0.61       434\n",
            "weighted avg       0.67      0.62      0.63       434\n",
            "\n"
          ]
        }
      ]
    },
    {
      "cell_type": "code",
      "metadata": {
        "colab": {
          "base_uri": "https://localhost:8080/"
        },
        "id": "LBUvlTkwGVIx",
        "outputId": "02547f48-c398-4e73-d85d-1d375a1fafed"
      },
      "source": [
        "#FEATURES FRECUENCIA SELECTIVA PROMEDIOS\n",
        "nb2 = MultinomialNB()\n",
        "nb2.fit(X_train_freq_u, y_train_freq_u)\n",
        "print('F1Score', f1_score(y_val_freq_u, nb2.predict(X_val_freq_u), average='weighted'))\n",
        "print('Accuracy', accuracy_score(y_val_freq_u, nb2.predict(X_val_freq_u)))\n",
        "print('')\n",
        "print(classification_report(y_val_freq_u, nb2.predict(X_val_freq_u)))"
      ],
      "execution_count": null,
      "outputs": [
        {
          "output_type": "stream",
          "name": "stdout",
          "text": [
            "F1Score 0.6362312487935693\n",
            "Accuracy 0.6290322580645161\n",
            "\n",
            "              precision    recall  f1-score   support\n",
            "\n",
            "           1       0.46      0.74      0.57        68\n",
            "           2       0.53      0.68      0.59       100\n",
            "          99       0.79      0.58      0.67       266\n",
            "\n",
            "    accuracy                           0.63       434\n",
            "   macro avg       0.59      0.67      0.61       434\n",
            "weighted avg       0.68      0.63      0.64       434\n",
            "\n"
          ]
        }
      ]
    },
    {
      "cell_type": "code",
      "metadata": {
        "colab": {
          "base_uri": "https://localhost:8080/"
        },
        "id": "wzLp71zVwmJZ",
        "outputId": "c4d1706b-f6a6-4d29-e16b-1c083cd06764"
      },
      "source": [
        "#FEATURES FRECUENCIA SELECTIVA SIN CLASE 99\n",
        "nb3 = MultinomialNB()\n",
        "nb3.fit(X_train_m, y_train_m)\n",
        "print('F1Score', f1_score(y_val_m, nb3.predict(X_val_m), average='weighted'))\n",
        "print('Accuracy', accuracy_score(y_val_m, nb3.predict(X_val_m)))\n",
        "print('')\n",
        "print(classification_report(y_val_m, nb3.predict(X_val_m)))"
      ],
      "execution_count": null,
      "outputs": [
        {
          "output_type": "stream",
          "name": "stdout",
          "text": [
            "F1Score 0.7790952586108267\n",
            "Accuracy 0.7791878172588832\n",
            "\n",
            "              precision    recall  f1-score   support\n",
            "\n",
            "           1       0.78      0.76      0.77       193\n",
            "           2       0.78      0.80      0.79       201\n",
            "\n",
            "    accuracy                           0.78       394\n",
            "   macro avg       0.78      0.78      0.78       394\n",
            "weighted avg       0.78      0.78      0.78       394\n",
            "\n"
          ]
        }
      ]
    },
    {
      "cell_type": "markdown",
      "metadata": {
        "id": "JSBDC1UTax_A"
      },
      "source": [
        "##MODELO 2: SVM"
      ]
    },
    {
      "cell_type": "code",
      "metadata": {
        "id": "WEBYU4AGc-dY"
      },
      "source": [
        "from sklearn.svm import SVC"
      ],
      "execution_count": null,
      "outputs": []
    },
    {
      "cell_type": "code",
      "metadata": {
        "colab": {
          "base_uri": "https://localhost:8080/"
        },
        "id": "C4ZRN5Efa3oG",
        "outputId": "18685464-f692-492b-c98b-479732fdcd47"
      },
      "source": [
        "#FEATURES FRECUENCIA\n",
        "svm0 = SVC(class_weight='balanced')\n",
        "svm0.fit(X_train_freq, y_train_freq)\n",
        "print('F1Score=',f1_score(y_val_freq, svm0.predict(X_val_freq), average='weighted'))\n",
        "print('Accuracy=',accuracy_score(y_val_freq, svm0.predict(X_val_freq)))\n",
        "print('')\n",
        "print(classification_report(y_val_freq, svm0.predict(X_val_freq)))"
      ],
      "execution_count": null,
      "outputs": [
        {
          "output_type": "stream",
          "name": "stdout",
          "text": [
            "F1Score= 0.5673636555165077\n",
            "Accuracy= 0.5552995391705069\n",
            "\n",
            "              precision    recall  f1-score   support\n",
            "\n",
            "           1       0.41      0.68      0.51        68\n",
            "           2       0.41      0.66      0.50       100\n",
            "          99       0.81      0.48      0.61       266\n",
            "\n",
            "    accuracy                           0.56       434\n",
            "   macro avg       0.54      0.61      0.54       434\n",
            "weighted avg       0.65      0.56      0.57       434\n",
            "\n"
          ]
        }
      ]
    },
    {
      "cell_type": "code",
      "metadata": {
        "colab": {
          "base_uri": "https://localhost:8080/"
        },
        "id": "v_M71yI3Ns0a",
        "outputId": "dc3dc16c-7799-4695-d9fe-706eb445dd75"
      },
      "source": [
        "#FEATURES FRECUENCIA SELECTIVAS\n",
        "svm1 = SVC(class_weight='balanced')\n",
        "svm1.fit(X_train_freq_s, y_train_freq_s)\n",
        "print('F1Score=', f1_score(y_val_freq_s, svm1.predict(X_val_freq_s), average='weighted'))\n",
        "print('Accuracy=', accuracy_score(y_val_freq_s, svm1.predict(X_val_freq_s)))\n",
        "print('')\n",
        "print(classification_report(y_val_freq_s, svm1.predict(X_val_freq_s)))"
      ],
      "execution_count": null,
      "outputs": [
        {
          "output_type": "stream",
          "name": "stdout",
          "text": [
            "F1Score= 0.23507235343261004\n",
            "Accuracy= 0.35714285714285715\n",
            "\n",
            "              precision    recall  f1-score   support\n",
            "\n",
            "           1       0.39      0.75      0.52        68\n",
            "           2       0.32      0.94      0.48       100\n",
            "          99       1.00      0.04      0.07       266\n",
            "\n",
            "    accuracy                           0.36       434\n",
            "   macro avg       0.57      0.58      0.35       434\n",
            "weighted avg       0.75      0.36      0.24       434\n",
            "\n"
          ]
        }
      ]
    },
    {
      "cell_type": "code",
      "metadata": {
        "colab": {
          "base_uri": "https://localhost:8080/"
        },
        "id": "6gaC8llbNta3",
        "outputId": "58d9866f-ab97-4e5f-af21-fc715176ef80"
      },
      "source": [
        "#FEATURES FRECUENCIA SELECTIVAS UNIFICADAS\n",
        "svm2 = SVC(class_weight='balanced')\n",
        "svm2.fit(X_train_freq_u, y_train_freq_u)\n",
        "print('F1Score=', f1_score(y_val_freq_u, svm2.predict(X_val_freq_u), average='weighted'))\n",
        "print('Accuracy=', accuracy_score(y_val_freq_u, svm2.predict(X_val_freq_u)))\n",
        "print('')\n",
        "print(classification_report(y_val_freq_u, svm2.predict(X_val_freq_u)))"
      ],
      "execution_count": null,
      "outputs": [
        {
          "output_type": "stream",
          "name": "stdout",
          "text": [
            "F1Score= 0.2030502909454364\n",
            "Accuracy= 0.3387096774193548\n",
            "\n",
            "              precision    recall  f1-score   support\n",
            "\n",
            "           1       0.31      0.76      0.44        68\n",
            "           2       0.35      0.91      0.50       100\n",
            "          99       1.00      0.02      0.03       266\n",
            "\n",
            "    accuracy                           0.34       434\n",
            "   macro avg       0.55      0.56      0.32       434\n",
            "weighted avg       0.74      0.34      0.20       434\n",
            "\n"
          ]
        }
      ]
    },
    {
      "cell_type": "code",
      "metadata": {
        "colab": {
          "base_uri": "https://localhost:8080/"
        },
        "id": "gQZX4NYZOPDC",
        "outputId": "ec64220a-224b-48f8-8de7-25b4fcea7d5a"
      },
      "source": [
        "#FEATURES TIME\n",
        "svm3 = SVC(class_weight='balanced')\n",
        "svm3.fit(X_train_time, y_train_time)\n",
        "print('F1Score=',f1_score(y_val_time, svm3.predict(X_val_time), average='weighted'))\n",
        "print('Accuracy=', accuracy_score(y_val_time, svm3.predict(X_val_time)))\n",
        "print('')\n",
        "print(classification_report(y_val_time, svm3.predict(X_val_time)))"
      ],
      "execution_count": null,
      "outputs": [
        {
          "output_type": "stream",
          "name": "stdout",
          "text": [
            "F1Score= 0.5359246256900981\n",
            "Accuracy= 0.5875576036866359\n",
            "\n",
            "              precision    recall  f1-score   support\n",
            "\n",
            "           1       0.25      0.26      0.26        68\n",
            "           2       0.53      0.10      0.17       100\n",
            "          99       0.66      0.85      0.75       266\n",
            "\n",
            "    accuracy                           0.59       434\n",
            "   macro avg       0.48      0.41      0.39       434\n",
            "weighted avg       0.57      0.59      0.54       434\n",
            "\n"
          ]
        }
      ]
    },
    {
      "cell_type": "code",
      "metadata": {
        "colab": {
          "base_uri": "https://localhost:8080/"
        },
        "id": "2wbD7yWFOk05",
        "outputId": "b41762d0-ed53-4dbf-dcf1-30db81e522bc"
      },
      "source": [
        "#FEATURES AMPLITUD\n",
        "svm4 = SVC(class_weight='balanced')\n",
        "svm4.fit(X_train_sxx, y_train_sxx.ravel())\n",
        "print('F1Score=', f1_score(y_val_sxx, svm4.predict(X_val_sxx), average='weighted'))\n",
        "print('Accuracy=', accuracy_score(y_val_sxx, svm4.predict(X_val_sxx)))\n",
        "print('')\n",
        "print(classification_report(y_val_sxx, svm4.predict(X_val_sxx)))"
      ],
      "execution_count": null,
      "outputs": [
        {
          "output_type": "stream",
          "name": "stdout",
          "text": [
            "F1Score= 0.48172415491220155\n",
            "Accuracy= 0.4564102564102564\n",
            "\n",
            "              precision    recall  f1-score   support\n",
            "\n",
            "           1       0.31      0.41      0.36        41\n",
            "           2       0.28      0.71      0.41        35\n",
            "          99       0.89      0.39      0.55       119\n",
            "\n",
            "    accuracy                           0.46       195\n",
            "   macro avg       0.50      0.51      0.44       195\n",
            "weighted avg       0.66      0.46      0.48       195\n",
            "\n"
          ]
        }
      ]
    },
    {
      "cell_type": "code",
      "metadata": {
        "colab": {
          "base_uri": "https://localhost:8080/"
        },
        "id": "cPqz4l_wzRG1",
        "outputId": "f44d5ad3-4b4b-402b-c1ea-5836cd3ac7e7"
      },
      "source": [
        "#FEATURES FRECUENCIA SELECTIVA SIN CLASE 99\n",
        "svm5 = SVC(class_weight='balanced')\n",
        "svm5.fit(X_train_m, y_train_m.ravel())\n",
        "print('F1Score=', f1_score(y_val_m, svm5.predict(X_val_m), average='weighted'))\n",
        "print('Accuracy=', accuracy_score(y_val_m, svm5.predict(X_val_m)))\n",
        "print('')\n",
        "print(classification_report(y_val_m, svm5.predict(X_val_m)))"
      ],
      "execution_count": null,
      "outputs": [
        {
          "output_type": "stream",
          "name": "stdout",
          "text": [
            "F1Score= 0.7994497287177305\n",
            "Accuracy= 0.799492385786802\n",
            "\n",
            "              precision    recall  f1-score   support\n",
            "\n",
            "           1       0.80      0.79      0.79       193\n",
            "           2       0.80      0.81      0.80       201\n",
            "\n",
            "    accuracy                           0.80       394\n",
            "   macro avg       0.80      0.80      0.80       394\n",
            "weighted avg       0.80      0.80      0.80       394\n",
            "\n"
          ]
        }
      ]
    },
    {
      "cell_type": "markdown",
      "metadata": {
        "id": "ilO8Nz4mhRf-"
      },
      "source": [
        "##MODELO 3: KERNELS"
      ]
    },
    {
      "cell_type": "code",
      "metadata": {
        "colab": {
          "base_uri": "https://localhost:8080/"
        },
        "id": "2ceK2fWPUMjc",
        "outputId": "149ca212-ef6a-427e-b4d9-8fe2573ce100"
      },
      "source": [
        "#FEATURES FRECUENCIA\n",
        "svmk0 = SVC(kernel=\"rbf\", class_weight='balanced')\n",
        "svmk0.fit(X_train_freq, y_train_freq)\n",
        "print('F1Score=', f1_score(y_val_freq, svmk0.predict(X_val_freq), average='weighted'))\n",
        "print('Accuracy=', accuracy_score(y_val_freq, svmk0.predict(X_val_freq)))\n",
        "print('')\n",
        "print(classification_report(y_val_freq, svmk0.predict(X_val_freq)))"
      ],
      "execution_count": null,
      "outputs": [
        {
          "output_type": "stream",
          "name": "stdout",
          "text": [
            "F1Score= 0.5673636555165077\n",
            "Accuracy= 0.5552995391705069\n",
            "\n",
            "              precision    recall  f1-score   support\n",
            "\n",
            "           1       0.41      0.68      0.51        68\n",
            "           2       0.41      0.66      0.50       100\n",
            "          99       0.81      0.48      0.61       266\n",
            "\n",
            "    accuracy                           0.56       434\n",
            "   macro avg       0.54      0.61      0.54       434\n",
            "weighted avg       0.65      0.56      0.57       434\n",
            "\n"
          ]
        }
      ]
    },
    {
      "cell_type": "code",
      "metadata": {
        "colab": {
          "base_uri": "https://localhost:8080/"
        },
        "id": "OxRElTRKUMjc",
        "outputId": "90a252d8-4f14-4403-be7b-a2079d0ed566"
      },
      "source": [
        "#FEATURES FRECUENCIA SELECTIVAS\n",
        "svmk1 = SVC(kernel=\"sigmoid\", class_weight='balanced')\n",
        "svmk1.fit(X_train_freq_s, y_train_freq_s)\n",
        "print('F1Score=', f1_score(y_val_freq_s, svmk1.predict(X_val_freq_s), average='weighted'))\n",
        "print('Accuracy=', accuracy_score(y_val_freq_s, svmk1.predict(X_val_freq_s)))\n",
        "print('')\n",
        "print(classification_report(y_val_freq_s, svmk1.predict(X_val_freq_s)))"
      ],
      "execution_count": null,
      "outputs": [
        {
          "output_type": "stream",
          "name": "stdout",
          "text": [
            "F1Score= 0.4843528059209243\n",
            "Accuracy= 0.4769585253456221\n",
            "\n",
            "              precision    recall  f1-score   support\n",
            "\n",
            "           1       0.32      0.34      0.33        68\n",
            "           2       0.36      0.66      0.46       100\n",
            "          99       0.66      0.44      0.53       266\n",
            "\n",
            "    accuracy                           0.48       434\n",
            "   macro avg       0.45      0.48      0.44       434\n",
            "weighted avg       0.54      0.48      0.48       434\n",
            "\n"
          ]
        }
      ]
    },
    {
      "cell_type": "code",
      "metadata": {
        "colab": {
          "base_uri": "https://localhost:8080/"
        },
        "id": "KO-Dm66FUMjd",
        "outputId": "3a04cc9f-0e9d-431a-a0d5-cc5078858829"
      },
      "source": [
        "#FEATURES FRECUENCIA SELECTIVAS UNIFICADAS\n",
        "svmk2 = SVC(kernel=\"sigmoid\", class_weight='balanced')\n",
        "svmk2.fit(X_train_freq_u, y_train_freq_u)\n",
        "print('F1Score=', f1_score(y_val_freq_u, svmk2.predict(X_val_freq_u), average='weighted'))\n",
        "print('Accuracy=', accuracy_score(y_val_freq_u, svmk2.predict(X_val_freq_u)))\n",
        "print('')\n",
        "print(classification_report(y_val_freq_u, svmk2.predict(X_val_freq_u)))"
      ],
      "execution_count": null,
      "outputs": [
        {
          "output_type": "stream",
          "name": "stdout",
          "text": [
            "F1Score= 0.4557201845106959\n",
            "Accuracy= 0.45161290322580644\n",
            "\n",
            "              precision    recall  f1-score   support\n",
            "\n",
            "           1       0.25      0.19      0.22        68\n",
            "           2       0.33      0.67      0.44       100\n",
            "          99       0.65      0.44      0.52       266\n",
            "\n",
            "    accuracy                           0.45       434\n",
            "   macro avg       0.41      0.43      0.39       434\n",
            "weighted avg       0.51      0.45      0.46       434\n",
            "\n"
          ]
        }
      ]
    },
    {
      "cell_type": "code",
      "metadata": {
        "colab": {
          "base_uri": "https://localhost:8080/"
        },
        "id": "0gdRexljUMjd",
        "outputId": "1d7459c5-d4e7-4e62-8fd5-31701e4a4b84"
      },
      "source": [
        "#FEATURES TIME\n",
        "svmk3 = SVC(kernel=\"rbf\", class_weight='balanced')\n",
        "svmk3.fit(X_train_time, y_train_time)\n",
        "print('F1Score=', f1_score(y_val_time, svmk3.predict(X_val_time), average='weighted'))\n",
        "print('Accuracy=', accuracy_score(y_val_time, svmk3.predict(X_val_time)))\n",
        "print('')\n",
        "print(classification_report(y_val_time, svmk3.predict(X_val_time)))"
      ],
      "execution_count": null,
      "outputs": [
        {
          "output_type": "stream",
          "name": "stdout",
          "text": [
            "F1Score= 0.5359246256900981\n",
            "Accuracy= 0.5875576036866359\n",
            "\n",
            "              precision    recall  f1-score   support\n",
            "\n",
            "           1       0.25      0.26      0.26        68\n",
            "           2       0.53      0.10      0.17       100\n",
            "          99       0.66      0.85      0.75       266\n",
            "\n",
            "    accuracy                           0.59       434\n",
            "   macro avg       0.48      0.41      0.39       434\n",
            "weighted avg       0.57      0.59      0.54       434\n",
            "\n"
          ]
        }
      ]
    },
    {
      "cell_type": "code",
      "metadata": {
        "colab": {
          "base_uri": "https://localhost:8080/"
        },
        "id": "1RaEcH2jUMjd",
        "outputId": "fb6d8682-b7e6-4a00-ba7b-67851e3dc300"
      },
      "source": [
        "#FEATURES AMPLITUD\n",
        "svmk4 = SVC(kernel=\"poly\", class_weight='balanced')\n",
        "svmk4.fit(X_train_sxx, y_train_sxx.ravel())\n",
        "print('F1Score=', f1_score(y_val_sxx, svmk4.predict(X_val_sxx), average='weighted'))\n",
        "print('Accuracy=', accuracy_score(y_val_sxx, svmk4.predict(X_val_sxx)))\n",
        "print('')\n",
        "print(classification_report(y_val_sxx, svmk4.predict(X_val_sxx)))"
      ],
      "execution_count": null,
      "outputs": [
        {
          "output_type": "stream",
          "name": "stdout",
          "text": [
            "F1Score= 0.4982868718876996\n",
            "Accuracy= 0.47692307692307695\n",
            "\n",
            "              precision    recall  f1-score   support\n",
            "\n",
            "           1       0.31      0.51      0.39        41\n",
            "           2       0.33      0.66      0.44        35\n",
            "          99       0.84      0.41      0.55       119\n",
            "\n",
            "    accuracy                           0.48       195\n",
            "   macro avg       0.50      0.53      0.46       195\n",
            "weighted avg       0.64      0.48      0.50       195\n",
            "\n"
          ]
        }
      ]
    },
    {
      "cell_type": "code",
      "metadata": {
        "colab": {
          "base_uri": "https://localhost:8080/"
        },
        "id": "nohFvz2JzvvD",
        "outputId": "3c82293b-ffdd-453f-e907-1002abfd5da9"
      },
      "source": [
        "#FEATURES FRECUENCIA SELECTIVA SIN CLASE 99\n",
        "svmk5 = SVC(kernel=\"poly\", class_weight='balanced')\n",
        "svmk5.fit(X_train_m, y_train_m.ravel())\n",
        "print('F1Score=', f1_score(y_val_m, svmk5.predict(X_val_m), average='weighted'))\n",
        "print('Accuracy=', accuracy_score(y_val_m, svmk5.predict(X_val_m)))\n",
        "print('')\n",
        "print(classification_report(y_val_m, svmk5.predict(X_val_m)))"
      ],
      "execution_count": null,
      "outputs": [
        {
          "output_type": "stream",
          "name": "stdout",
          "text": [
            "F1Score= 0.7726117468610602\n",
            "Accuracy= 0.7791878172588832\n",
            "\n",
            "              precision    recall  f1-score   support\n",
            "\n",
            "           1       0.91      0.61      0.73       193\n",
            "           2       0.72      0.94      0.81       201\n",
            "\n",
            "    accuracy                           0.78       394\n",
            "   macro avg       0.81      0.78      0.77       394\n",
            "weighted avg       0.81      0.78      0.77       394\n",
            "\n"
          ]
        }
      ]
    },
    {
      "cell_type": "markdown",
      "metadata": {
        "id": "VP7LWyxEiXeE"
      },
      "source": [
        "## MODELO 4: RANDOM FOREST\n",
        "\n"
      ]
    },
    {
      "cell_type": "code",
      "metadata": {
        "id": "C3o0dfPKmHii"
      },
      "source": [
        "from sklearn import ensemble\n",
        "from sklearn.metrics import classification_report"
      ],
      "execution_count": null,
      "outputs": []
    },
    {
      "cell_type": "code",
      "metadata": {
        "colab": {
          "base_uri": "https://localhost:8080/"
        },
        "id": "6iqlBoaZYi3W",
        "outputId": "701acd0c-bb20-4001-f018-52506e0589ea"
      },
      "source": [
        "#FEATURES FRECUENCIA\n",
        "rf0 = ensemble.RandomForestClassifier(class_weight='balanced')\n",
        "rf0.fit(X_train_freq, y_train_freq)\n",
        "print('F1Score=', f1_score(y_val_freq, rf0.predict(X_val_freq), average='weighted'))\n",
        "print('Accuracy=', accuracy_score(y_val_freq, rf0.predict(X_val_freq)))\n",
        "print('')\n",
        "print('Train=',classification_report(y_train_freq, rf0.predict(X_train_freq)))\n",
        "print('Val=',classification_report(y_val_freq, rf0.predict(X_val_freq)))"
      ],
      "execution_count": null,
      "outputs": [
        {
          "output_type": "stream",
          "name": "stdout",
          "text": [
            "F1Score= 0.7114464728266604\n",
            "Accuracy= 0.7258064516129032\n",
            "\n",
            "Train=               precision    recall  f1-score   support\n",
            "\n",
            "           1       0.93      0.96      0.94       598\n",
            "           2       0.90      0.98      0.94       594\n",
            "          99       0.99      0.95      0.97      1932\n",
            "\n",
            "    accuracy                           0.96      3124\n",
            "   macro avg       0.94      0.96      0.95      3124\n",
            "weighted avg       0.96      0.96      0.96      3124\n",
            "\n",
            "Val=               precision    recall  f1-score   support\n",
            "\n",
            "           1       0.68      0.53      0.60        68\n",
            "           2       0.65      0.44      0.52       100\n",
            "          99       0.75      0.88      0.81       266\n",
            "\n",
            "    accuracy                           0.73       434\n",
            "   macro avg       0.69      0.62      0.64       434\n",
            "weighted avg       0.72      0.73      0.71       434\n",
            "\n"
          ]
        }
      ]
    },
    {
      "cell_type": "code",
      "metadata": {
        "colab": {
          "base_uri": "https://localhost:8080/"
        },
        "id": "A-aFcjPUYi3W",
        "outputId": "afe5ef6f-413a-40df-e675-21eaab96631a"
      },
      "source": [
        "#FEATURES FRECUENCIA SELECTIVAS\n",
        "rf1 = ensemble.RandomForestClassifier(class_weight='balanced')\n",
        "rf1.fit(X_train_freq_s, y_train_freq_s)\n",
        "print('F1Score=', f1_score(y_val_freq_s, rf1.predict(X_val_freq_s), average='weighted'))\n",
        "print('Accuracy=', accuracy_score(y_val_freq_s, rf1.predict(X_val_freq_s)))\n",
        "print('')\n",
        "print('Train=', classification_report(y_train_freq_s, rf1.predict(X_train_freq_s)))\n",
        "print('Val=', classification_report(y_val_freq_s, rf1.predict(X_val_freq_s)))"
      ],
      "execution_count": null,
      "outputs": [
        {
          "output_type": "stream",
          "name": "stdout",
          "text": [
            "F1Score= 0.7259676836283084\n",
            "Accuracy= 0.7465437788018433\n",
            "\n",
            "Train=               precision    recall  f1-score   support\n",
            "\n",
            "           1       1.00      1.00      1.00       598\n",
            "           2       1.00      1.00      1.00       594\n",
            "          99       1.00      1.00      1.00      1932\n",
            "\n",
            "    accuracy                           1.00      3124\n",
            "   macro avg       1.00      1.00      1.00      3124\n",
            "weighted avg       1.00      1.00      1.00      3124\n",
            "\n",
            "Val=               precision    recall  f1-score   support\n",
            "\n",
            "           1       0.83      0.66      0.74        68\n",
            "           2       0.72      0.36      0.48       100\n",
            "          99       0.74      0.91      0.82       266\n",
            "\n",
            "    accuracy                           0.75       434\n",
            "   macro avg       0.76      0.65      0.68       434\n",
            "weighted avg       0.75      0.75      0.73       434\n",
            "\n"
          ]
        }
      ]
    },
    {
      "cell_type": "code",
      "metadata": {
        "colab": {
          "base_uri": "https://localhost:8080/"
        },
        "id": "Yni2ec2QYi3W",
        "outputId": "70564296-2994-416a-a654-73897f61c02d"
      },
      "source": [
        "#FEATURES FRECUENCIA SELECTIVAS UNIFICADAS\n",
        "rf2 = ensemble.RandomForestClassifier(class_weight='balanced')\n",
        "rf2.fit(X_train_freq_u, y_train_freq_u)\n",
        "print('F1Score=', f1_score(y_val_freq_u, rf2.predict(X_val_freq_u), average='weighted'))\n",
        "print('Accuracy=', accuracy_score(y_val_freq_u, rf2.predict(X_val_freq_u)))\n",
        "print('')\n",
        "print('Train=', classification_report(y_train_freq_u, rf2.predict(X_train_freq_u)))\n",
        "print('Val=', classification_report(y_val_freq_u, rf2.predict(X_val_freq_u)))"
      ],
      "execution_count": null,
      "outputs": [
        {
          "output_type": "stream",
          "name": "stdout",
          "text": [
            "F1Score= 0.644839100210888\n",
            "Accuracy= 0.6658986175115207\n",
            "\n",
            "Train=               precision    recall  f1-score   support\n",
            "\n",
            "           1       1.00      1.00      1.00       598\n",
            "           2       1.00      1.00      1.00       594\n",
            "          99       1.00      1.00      1.00      1932\n",
            "\n",
            "    accuracy                           1.00      3124\n",
            "   macro avg       1.00      1.00      1.00      3124\n",
            "weighted avg       1.00      1.00      1.00      3124\n",
            "\n",
            "Val=               precision    recall  f1-score   support\n",
            "\n",
            "           1       0.62      0.46      0.53        68\n",
            "           2       0.55      0.33      0.41       100\n",
            "          99       0.69      0.85      0.76       266\n",
            "\n",
            "    accuracy                           0.67       434\n",
            "   macro avg       0.62      0.54      0.57       434\n",
            "weighted avg       0.65      0.67      0.64       434\n",
            "\n"
          ]
        }
      ]
    },
    {
      "cell_type": "code",
      "metadata": {
        "colab": {
          "base_uri": "https://localhost:8080/"
        },
        "id": "RJjJ3WfEYi3X",
        "outputId": "c79d33b3-8c2e-4427-de57-ab3912e6036e"
      },
      "source": [
        "#FEATURES TIME\n",
        "rf3 = ensemble.RandomForestClassifier(class_weight='balanced')\n",
        "rf3.fit(X_train_time, y_train_time)\n",
        "print('F1Score=', f1_score(y_val_time, rf3.predict(X_val_time), average='weighted'))\n",
        "print('Accuracy=', accuracy_score(y_val_time, rf3.predict(X_val_time)))\n",
        "print('')\n",
        "print('Train=', classification_report(y_train_time, rf3.predict(X_train_time)))\n",
        "print('Val=',classification_report(y_val_time, rf3.predict(X_val_time)))"
      ],
      "execution_count": null,
      "outputs": [
        {
          "output_type": "stream",
          "name": "stdout",
          "text": [
            "F1Score= 0.9259856758376322\n",
            "Accuracy= 0.9262672811059908\n",
            "\n",
            "Train=               precision    recall  f1-score   support\n",
            "\n",
            "           1       1.00      1.00      1.00       598\n",
            "           2       1.00      1.00      1.00       594\n",
            "          99       1.00      1.00      1.00      1932\n",
            "\n",
            "    accuracy                           1.00      3124\n",
            "   macro avg       1.00      1.00      1.00      3124\n",
            "weighted avg       1.00      1.00      1.00      3124\n",
            "\n",
            "Val=               precision    recall  f1-score   support\n",
            "\n",
            "           1       0.87      0.87      0.87        68\n",
            "           2       0.94      0.88      0.91       100\n",
            "          99       0.94      0.96      0.95       266\n",
            "\n",
            "    accuracy                           0.93       434\n",
            "   macro avg       0.91      0.90      0.91       434\n",
            "weighted avg       0.93      0.93      0.93       434\n",
            "\n"
          ]
        }
      ]
    },
    {
      "cell_type": "code",
      "metadata": {
        "colab": {
          "base_uri": "https://localhost:8080/"
        },
        "id": "CtrxAAG1Yi3X",
        "outputId": "38a5c57a-5843-49b0-b5d4-46f740713406"
      },
      "source": [
        "#FEATURES AMPLITUD\n",
        "rf4 = ensemble.RandomForestClassifier(class_weight='balanced')\n",
        "rf4.fit(X_train_sxx, y_train_sxx.ravel())\n",
        "print('F1Score=', f1_score(y_val_sxx, rf4.predict(X_val_sxx), average='weighted'))\n",
        "print('Accuracy=', accuracy_score(y_val_sxx, rf4.predict(X_val_sxx)))\n",
        "print('')\n",
        "print('Train=', classification_report(y_train_sxx, rf4.predict(X_train_sxx)))\n",
        "print('Val=', classification_report(y_val_sxx, rf4.predict(X_val_sxx)))"
      ],
      "execution_count": null,
      "outputs": [
        {
          "output_type": "stream",
          "name": "stdout",
          "text": [
            "F1Score= 0.7687369626135112\n",
            "Accuracy= 0.7743589743589744\n",
            "\n",
            "Train=               precision    recall  f1-score   support\n",
            "\n",
            "           1       1.00      1.00      1.00       278\n",
            "           2       1.00      1.00      1.00       303\n",
            "          99       1.00      1.00      1.00       815\n",
            "\n",
            "    accuracy                           1.00      1396\n",
            "   macro avg       1.00      1.00      1.00      1396\n",
            "weighted avg       1.00      1.00      1.00      1396\n",
            "\n",
            "Val=               precision    recall  f1-score   support\n",
            "\n",
            "           1       0.72      0.56      0.63        41\n",
            "           2       0.77      0.69      0.73        35\n",
            "          99       0.79      0.87      0.83       119\n",
            "\n",
            "    accuracy                           0.77       195\n",
            "   macro avg       0.76      0.71      0.73       195\n",
            "weighted avg       0.77      0.77      0.77       195\n",
            "\n"
          ]
        }
      ]
    },
    {
      "cell_type": "code",
      "metadata": {
        "colab": {
          "base_uri": "https://localhost:8080/"
        },
        "id": "vi6sphDB1OL9",
        "outputId": "c211c20e-51f2-40dd-be57-ad5ff3891e74"
      },
      "source": [
        "#FEATURES FRECUENCIA SELECTIVA SIN CLASE 99\n",
        "rf5 = ensemble.RandomForestClassifier(class_weight='balanced')\n",
        "rf5.fit(X_train_m, y_train_m.ravel())\n",
        "print('F1Score=', f1_score(y_val_m, rf5.predict(X_val_m), average='weighted'))\n",
        "print('Accuracy=', accuracy_score(y_val_m, rf5.predict(X_val_m)))\n",
        "print('')\n",
        "print(classification_report(y_val_m, rf5.predict(X_val_m)))"
      ],
      "execution_count": null,
      "outputs": [
        {
          "output_type": "stream",
          "name": "stdout",
          "text": [
            "F1Score= 0.7817258883248731\n",
            "Accuracy= 0.7817258883248731\n",
            "\n",
            "              precision    recall  f1-score   support\n",
            "\n",
            "           1       0.78      0.78      0.78       193\n",
            "           2       0.79      0.79      0.79       201\n",
            "\n",
            "    accuracy                           0.78       394\n",
            "   macro avg       0.78      0.78      0.78       394\n",
            "weighted avg       0.78      0.78      0.78       394\n",
            "\n"
          ]
        }
      ]
    },
    {
      "cell_type": "markdown",
      "metadata": {
        "id": "5IsHfAZ6miIs"
      },
      "source": [
        "##MODELO 5: NEURAL NETWORK"
      ]
    },
    {
      "cell_type": "code",
      "metadata": {
        "id": "iqCWqxYgpJy2"
      },
      "source": [
        "from sklearn import neural_network"
      ],
      "execution_count": null,
      "outputs": []
    },
    {
      "cell_type": "code",
      "metadata": {
        "colab": {
          "base_uri": "https://localhost:8080/"
        },
        "id": "FzUdI1okddSS",
        "outputId": "de24887d-f4c4-4ad9-cb99-ca129579e684"
      },
      "source": [
        "#FEATURES FRECUENCIA\n",
        "rn0 = neural_network.MLPClassifier()\n",
        "rn0.fit(X_train_freq, y_train_freq)\n",
        "print('F1Score=',f1_score(y_val_freq, rn0.predict(X_val_freq), average='weighted'))\n",
        "print('Accuracy=', accuracy_score(y_val_freq, rn0.predict(X_val_freq)))\n",
        "print('')\n",
        "print(classification_report(y_val_freq, rn0.predict(X_val_freq)))"
      ],
      "execution_count": null,
      "outputs": [
        {
          "output_type": "stream",
          "name": "stdout",
          "text": [
            "F1Score= 0.4853429687913418\n",
            "Accuracy= 0.6105990783410138\n",
            "\n",
            "              precision    recall  f1-score   support\n",
            "\n",
            "           1       0.46      0.09      0.15        68\n",
            "           2       0.00      0.00      0.00       100\n",
            "          99       0.62      0.97      0.75       266\n",
            "\n",
            "    accuracy                           0.61       434\n",
            "   macro avg       0.36      0.35      0.30       434\n",
            "weighted avg       0.45      0.61      0.49       434\n",
            "\n"
          ]
        },
        {
          "output_type": "stream",
          "name": "stderr",
          "text": [
            "/usr/local/lib/python3.7/dist-packages/sklearn/metrics/_classification.py:1272: UndefinedMetricWarning: Precision and F-score are ill-defined and being set to 0.0 in labels with no predicted samples. Use `zero_division` parameter to control this behavior.\n",
            "  _warn_prf(average, modifier, msg_start, len(result))\n"
          ]
        }
      ]
    },
    {
      "cell_type": "code",
      "metadata": {
        "colab": {
          "base_uri": "https://localhost:8080/"
        },
        "id": "ABWrb2-fddST",
        "outputId": "78076e54-d879-4677-e274-94719e3dd8b6"
      },
      "source": [
        "#FEATURES FRECUENCIA SELECTIVAS\n",
        "rn1 = neural_network.MLPClassifier()\n",
        "rn1.fit(X_train_freq_s, y_train_freq_s)\n",
        "print('F1Score=',f1_score(y_val_freq_s, rn1.predict(X_val_freq_s), average='weighted'))\n",
        "print('Accuracy=', accuracy_score(y_val_freq_s, rn1.predict(X_val_freq_s)))\n",
        "print('')\n",
        "print(classification_report(y_val_freq_s, rn1.predict(X_val_freq_s)))"
      ],
      "execution_count": null,
      "outputs": [
        {
          "output_type": "stream",
          "name": "stdout",
          "text": [
            "F1Score= 0.7156586801372139\n",
            "Accuracy= 0.7235023041474654\n",
            "\n",
            "              precision    recall  f1-score   support\n",
            "\n",
            "           1       0.64      0.66      0.65        68\n",
            "           2       0.66      0.47      0.55       100\n",
            "          99       0.76      0.83      0.79       266\n",
            "\n",
            "    accuracy                           0.72       434\n",
            "   macro avg       0.69      0.66      0.67       434\n",
            "weighted avg       0.72      0.72      0.72       434\n",
            "\n"
          ]
        }
      ]
    },
    {
      "cell_type": "code",
      "metadata": {
        "colab": {
          "base_uri": "https://localhost:8080/"
        },
        "id": "9tcybU7mddST",
        "outputId": "162e0ab7-c57e-47ad-eed9-0329c2e7eed5"
      },
      "source": [
        "#FEATURES FRECUENCIA SELECTIVAS UNIFICADAS\n",
        "rn2 = neural_network.MLPClassifier()\n",
        "rn2.fit(X_train_freq_u, y_train_freq_u)\n",
        "print('F1Score=',f1_score(y_val_freq_u, rn2.predict(X_val_freq_u), average='weighted'))\n",
        "print('Accuracy=', accuracy_score(y_val_freq_u, rn2.predict(X_val_freq_u)))\n",
        "print('')\n",
        "print(classification_report(y_val_freq_u, rn2.predict(X_val_freq_u)))"
      ],
      "execution_count": null,
      "outputs": [
        {
          "output_type": "stream",
          "name": "stdout",
          "text": [
            "F1Score= 0.6503621649922668\n",
            "Accuracy= 0.684331797235023\n",
            "\n",
            "              precision    recall  f1-score   support\n",
            "\n",
            "           1       0.65      0.50      0.57        68\n",
            "           2       0.68      0.25      0.36       100\n",
            "          99       0.69      0.89      0.78       266\n",
            "\n",
            "    accuracy                           0.68       434\n",
            "   macro avg       0.67      0.55      0.57       434\n",
            "weighted avg       0.68      0.68      0.65       434\n",
            "\n"
          ]
        }
      ]
    },
    {
      "cell_type": "code",
      "metadata": {
        "colab": {
          "base_uri": "https://localhost:8080/"
        },
        "id": "KnCxpe8SddST",
        "outputId": "b0af1db0-03c4-43dc-f6b6-47de5f2c18df"
      },
      "source": [
        "#FEATURES TIME\n",
        "rn3 = neural_network.MLPClassifier()\n",
        "rn3.fit(X_train_time, y_train_time)\n",
        "print('F1Score=',f1_score(y_val_time, rn3.predict(X_val_time), average='weighted'))\n",
        "print('Accuracy=', accuracy_score(y_val_time, rn3.predict(X_val_time)))\n",
        "print('')\n",
        "print(classification_report(y_val_time, rn3.predict(X_val_time)))"
      ],
      "execution_count": null,
      "outputs": [
        {
          "output_type": "stream",
          "name": "stdout",
          "text": [
            "F1Score= 0.5100995955017065\n",
            "Accuracy= 0.6267281105990783\n",
            "\n",
            "              precision    recall  f1-score   support\n",
            "\n",
            "           1       0.50      0.04      0.08        68\n",
            "           2       0.50      0.06      0.11       100\n",
            "          99       0.63      0.99      0.77       266\n",
            "\n",
            "    accuracy                           0.63       434\n",
            "   macro avg       0.54      0.36      0.32       434\n",
            "weighted avg       0.58      0.63      0.51       434\n",
            "\n"
          ]
        }
      ]
    },
    {
      "cell_type": "code",
      "metadata": {
        "colab": {
          "base_uri": "https://localhost:8080/"
        },
        "id": "EmfHOkNaddST",
        "outputId": "bceef6e2-75f3-4d81-ead2-e565d9a5cc45"
      },
      "source": [
        "#FEATURES AMPLITUD\n",
        "rn4 = neural_network.MLPClassifier()\n",
        "rn4.fit(X_train_sxx, y_train_sxx.ravel())\n",
        "print('F1Score=',f1_score(y_val_sxx, rn4.predict(X_val_sxx), average='weighted'))\n",
        "print('Accuracy=', accuracy_score(y_val_sxx, rn4.predict(X_val_sxx)))\n",
        "print('')\n",
        "print(classification_report(y_val_sxx, rn4.predict(X_val_sxx)))"
      ],
      "execution_count": null,
      "outputs": [
        {
          "output_type": "stream",
          "name": "stdout",
          "text": [
            "F1Score= 0.5287020863135244\n",
            "Accuracy= 0.6051282051282051\n",
            "\n",
            "              precision    recall  f1-score   support\n",
            "\n",
            "           1       0.24      0.10      0.14        41\n",
            "           2       0.40      0.11      0.18        35\n",
            "          99       0.65      0.92      0.77       119\n",
            "\n",
            "    accuracy                           0.61       195\n",
            "   macro avg       0.43      0.38      0.36       195\n",
            "weighted avg       0.52      0.61      0.53       195\n",
            "\n"
          ]
        }
      ]
    },
    {
      "cell_type": "code",
      "metadata": {
        "colab": {
          "base_uri": "https://localhost:8080/"
        },
        "id": "k39vKr2c2Udv",
        "outputId": "aa624c59-0f6a-4a1f-e777-19b0440f94f5"
      },
      "source": [
        "#FEATURES FRECUENCIA SELECTIVA SIN CLASE 99\n",
        "rn5 = neural_network.MLPClassifier()\n",
        "rn5.fit(X_train_m, y_train_m.ravel())\n",
        "print('F1Score=',f1_score(y_val_m, rn5.predict(X_val_m), average='weighted'))\n",
        "print('Accuracy=', accuracy_score(y_val_m, rn5.predict(X_val_m)))\n",
        "print('')\n",
        "print(classification_report(y_val_m, rn5.predict(X_val_m)))"
      ],
      "execution_count": null,
      "outputs": [
        {
          "output_type": "stream",
          "name": "stdout",
          "text": [
            "F1Score= 0.8185402984494585\n",
            "Accuracy= 0.8197969543147208\n",
            "\n",
            "              precision    recall  f1-score   support\n",
            "\n",
            "           1       0.87      0.74      0.80       193\n",
            "           2       0.78      0.90      0.84       201\n",
            "\n",
            "    accuracy                           0.82       394\n",
            "   macro avg       0.83      0.82      0.82       394\n",
            "weighted avg       0.83      0.82      0.82       394\n",
            "\n"
          ]
        }
      ]
    },
    {
      "cell_type": "markdown",
      "metadata": {
        "id": "ApJkqPCHIvSf"
      },
      "source": [
        "## MODELO 6: KNN"
      ]
    },
    {
      "cell_type": "code",
      "metadata": {
        "id": "B7rGWf0VIuf3"
      },
      "source": [
        "from sklearn.neighbors import KNeighborsClassifier"
      ],
      "execution_count": null,
      "outputs": []
    },
    {
      "cell_type": "code",
      "metadata": {
        "colab": {
          "base_uri": "https://localhost:8080/"
        },
        "id": "Hhy8S2vuaS-0",
        "outputId": "da9f17ea-7235-44e5-a7bd-0e3dd4852c07"
      },
      "source": [
        "#FEATURES FRECUENCIA\n",
        "KNN0 = KNeighborsClassifier()\n",
        "KNN0.fit(X_train_freq, y_train_freq)\n",
        "print('F1Score=', f1_score(y_val_freq, KNN0.predict(X_val_freq), average='weighted'))\n",
        "print('Accuracy=', accuracy_score(y_val_freq, KNN0.predict(X_val_freq)))\n",
        "print('')\n",
        "print(classification_report(y_val_freq, KNN0.predict(X_val_freq)))"
      ],
      "execution_count": null,
      "outputs": [
        {
          "output_type": "stream",
          "name": "stdout",
          "text": [
            "F1Score= 0.6329550259881939\n",
            "Accuracy= 0.6405529953917051\n",
            "\n",
            "              precision    recall  f1-score   support\n",
            "\n",
            "           1       0.51      0.56      0.53        68\n",
            "           2       0.45      0.35      0.40       100\n",
            "          99       0.73      0.77      0.75       266\n",
            "\n",
            "    accuracy                           0.64       434\n",
            "   macro avg       0.56      0.56      0.56       434\n",
            "weighted avg       0.63      0.64      0.63       434\n",
            "\n"
          ]
        }
      ]
    },
    {
      "cell_type": "code",
      "metadata": {
        "colab": {
          "base_uri": "https://localhost:8080/"
        },
        "id": "oWOo1-cLaS-0",
        "outputId": "c8106080-d5f0-47e3-ef2e-db1ad4ea55a6"
      },
      "source": [
        "#FEATURES FRECUENCIA SELECTIVAS\n",
        "KNN1 = KNeighborsClassifier()\n",
        "KNN1.fit(X_train_freq_s, y_train_freq_s)\n",
        "print('F1Score=', f1_score(y_val_freq_s, KNN1.predict(X_val_freq_s), average='weighted'))\n",
        "print('Accuracy=', accuracy_score(y_val_freq_s, KNN1.predict(X_val_freq_s)))\n",
        "print('')\n",
        "print(classification_report(y_val_freq_s, KNN1.predict(X_val_freq_s)))"
      ],
      "execution_count": null,
      "outputs": [
        {
          "output_type": "stream",
          "name": "stdout",
          "text": [
            "F1Score= 0.7737649992208198\n",
            "Accuracy= 0.7788018433179723\n",
            "\n",
            "              precision    recall  f1-score   support\n",
            "\n",
            "           1       0.79      0.79      0.79        68\n",
            "           2       0.69      0.55      0.61       100\n",
            "          99       0.80      0.86      0.83       266\n",
            "\n",
            "    accuracy                           0.78       434\n",
            "   macro avg       0.76      0.74      0.74       434\n",
            "weighted avg       0.77      0.78      0.77       434\n",
            "\n"
          ]
        }
      ]
    },
    {
      "cell_type": "code",
      "metadata": {
        "colab": {
          "base_uri": "https://localhost:8080/"
        },
        "id": "MDRqHQOLaS-1",
        "outputId": "d64874a1-0af4-4019-c66e-beb4ea297542"
      },
      "source": [
        "#FEATURES FRECUENCIA SELECTIVAS UNIFICADAS\n",
        "KNN2 = KNeighborsClassifier()\n",
        "KNN2.fit(X_train_freq_u, y_train_freq_u)\n",
        "print('F1Score=', f1_score(y_val_freq_u, KNN2.predict(X_val_freq_u), average='weighted'))\n",
        "print('Accuracy=', accuracy_score(y_val_freq_u, KNN2.predict(X_val_freq_u)))\n",
        "print('')\n",
        "print(classification_report(y_val_freq_u, KNN2.predict(X_val_freq_u)))"
      ],
      "execution_count": null,
      "outputs": [
        {
          "output_type": "stream",
          "name": "stdout",
          "text": [
            "F1Score= 0.6271738484410296\n",
            "Accuracy= 0.6359447004608295\n",
            "\n",
            "              precision    recall  f1-score   support\n",
            "\n",
            "           1       0.55      0.51      0.53        68\n",
            "           2       0.49      0.38      0.43       100\n",
            "          99       0.69      0.76      0.73       266\n",
            "\n",
            "    accuracy                           0.64       434\n",
            "   macro avg       0.58      0.55      0.56       434\n",
            "weighted avg       0.62      0.64      0.63       434\n",
            "\n"
          ]
        }
      ]
    },
    {
      "cell_type": "code",
      "metadata": {
        "colab": {
          "base_uri": "https://localhost:8080/"
        },
        "id": "_PfqPdNSaS-1",
        "outputId": "6d948100-7416-45b8-a95f-7688afcdbe3c"
      },
      "source": [
        "#FEATURES TIME\n",
        "KNN3 = KNeighborsClassifier()\n",
        "KNN3.fit(X_train_time, y_train_time)\n",
        "print('F1Score=', f1_score(y_val_time, KNN3.predict(X_val_time), average='weighted'))\n",
        "print('Accuracy=', accuracy_score(y_val_time, KNN3.predict(X_val_time)))\n",
        "print('')\n",
        "print(classification_report(y_val_time, KNN3.predict(X_val_time)))"
      ],
      "execution_count": null,
      "outputs": [
        {
          "output_type": "stream",
          "name": "stdout",
          "text": [
            "F1Score= 0.7680284764643391\n",
            "Accuracy= 0.7672811059907834\n",
            "\n",
            "              precision    recall  f1-score   support\n",
            "\n",
            "           1       0.51      0.63      0.57        68\n",
            "           2       0.77      0.60      0.67       100\n",
            "          99       0.85      0.86      0.86       266\n",
            "\n",
            "    accuracy                           0.77       434\n",
            "   macro avg       0.71      0.70      0.70       434\n",
            "weighted avg       0.78      0.77      0.77       434\n",
            "\n"
          ]
        }
      ]
    },
    {
      "cell_type": "code",
      "metadata": {
        "colab": {
          "base_uri": "https://localhost:8080/"
        },
        "id": "h2tEyfx7aS-2",
        "outputId": "c2ff9524-16c2-4b90-b9b1-15ffafce6ec8"
      },
      "source": [
        "#FEATURES AMPLITUD\n",
        "KNN4 = KNeighborsClassifier()\n",
        "KNN4.fit(X_train_sxx, y_train_sxx)\n",
        "print('F1Score=', f1_score(y_val_sxx, KNN4.predict(X_val_sxx), average='weighted'))\n",
        "print('Accuracy=', accuracy_score(y_val_sxx, KNN4.predict(X_val_sxx)))\n",
        "print('')\n",
        "print(classification_report(y_val_sxx, KNN4.predict(X_val_sxx)))\n"
      ],
      "execution_count": null,
      "outputs": [
        {
          "output_type": "stream",
          "name": "stdout",
          "text": [
            "F1Score= 0.5671257747753156\n",
            "Accuracy= 0.5692307692307692\n",
            "\n",
            "              precision    recall  f1-score   support\n",
            "\n",
            "           1       0.38      0.29      0.33        41\n",
            "           2       0.35      0.43      0.38        35\n",
            "          99       0.70      0.71      0.70       119\n",
            "\n",
            "    accuracy                           0.57       195\n",
            "   macro avg       0.47      0.48      0.47       195\n",
            "weighted avg       0.57      0.57      0.57       195\n",
            "\n"
          ]
        },
        {
          "output_type": "stream",
          "name": "stderr",
          "text": [
            "/usr/local/lib/python3.7/dist-packages/ipykernel_launcher.py:3: DataConversionWarning: A column-vector y was passed when a 1d array was expected. Please change the shape of y to (n_samples, ), for example using ravel().\n",
            "  This is separate from the ipykernel package so we can avoid doing imports until\n"
          ]
        }
      ]
    },
    {
      "cell_type": "code",
      "metadata": {
        "colab": {
          "base_uri": "https://localhost:8080/"
        },
        "id": "HetgCuuf5e5j",
        "outputId": "e678280c-0fad-439b-fcb3-735b747b2501"
      },
      "source": [
        "#FEATURES FRECUENCIA SELECTIVA SIN CLASE 99\n",
        "KNN5 = KNeighborsClassifier()\n",
        "KNN5.fit(X_train_m, y_train_m)\n",
        "print('F1Score=', f1_score(y_val_m, KNN5.predict(X_val_m), average='weighted'))\n",
        "print('Accuracy=', accuracy_score(y_val_m, KNN5.predict(X_val_m)))\n",
        "print('')\n",
        "print(classification_report(y_val_m, KNN5.predict(X_val_m)))\n"
      ],
      "execution_count": null,
      "outputs": [
        {
          "output_type": "stream",
          "name": "stdout",
          "text": [
            "F1Score= 0.7638605406552017\n",
            "Accuracy= 0.7639593908629442\n",
            "\n",
            "              precision    recall  f1-score   support\n",
            "\n",
            "           1       0.74      0.79      0.77       193\n",
            "           2       0.79      0.74      0.76       201\n",
            "\n",
            "    accuracy                           0.76       394\n",
            "   macro avg       0.76      0.76      0.76       394\n",
            "weighted avg       0.77      0.76      0.76       394\n",
            "\n"
          ]
        }
      ]
    },
    {
      "cell_type": "markdown",
      "metadata": {
        "id": "Rg5EFNtza-7K"
      },
      "source": [
        "##MODELO 7: BOOSTING"
      ]
    },
    {
      "cell_type": "code",
      "metadata": {
        "id": "ueuS5X-3l3BI"
      },
      "source": [
        "import xgboost as xgb"
      ],
      "execution_count": null,
      "outputs": []
    },
    {
      "cell_type": "code",
      "metadata": {
        "colab": {
          "base_uri": "https://localhost:8080/"
        },
        "id": "Cd-auAMubWq9",
        "outputId": "ac1b9517-4f6b-4c1d-8903-79ed0012f4e2"
      },
      "source": [
        "#FEATURES FRECUENCIA\n",
        "xgb0= xgb.XGBClassifier()\n",
        "xgb0.fit(X_train_freq, y_train_freq)\n",
        "print('F1Score=', f1_score(y_val_freq, xgb0.predict(X_val_freq), average='weighted'))\n",
        "print('Accuracy=', accuracy_score(y_val_freq, xgb0.predict(X_val_freq)))\n",
        "print('')\n",
        "print(classification_report(y_val_freq, xgb0.predict(X_val_freq)))"
      ],
      "execution_count": null,
      "outputs": [
        {
          "output_type": "stream",
          "name": "stdout",
          "text": [
            "F1Score= 0.7013528933161628\n",
            "Accuracy= 0.7258064516129032\n",
            "\n",
            "              precision    recall  f1-score   support\n",
            "\n",
            "           1       0.78      0.51      0.62        68\n",
            "           2       0.66      0.35      0.46       100\n",
            "          99       0.73      0.92      0.81       266\n",
            "\n",
            "    accuracy                           0.73       434\n",
            "   macro avg       0.72      0.60      0.63       434\n",
            "weighted avg       0.72      0.73      0.70       434\n",
            "\n"
          ]
        }
      ]
    },
    {
      "cell_type": "code",
      "metadata": {
        "colab": {
          "base_uri": "https://localhost:8080/"
        },
        "id": "8tENmK-UbWq-",
        "outputId": "07995dc9-940e-4e54-a1c4-89cb2c69d43f"
      },
      "source": [
        "#FEATURES FRECUENCIA SELECTIVAS\n",
        "xgb1 = xgb.XGBClassifier()\n",
        "xgb1.fit(X_train_freq_s, y_train_freq_s)\n",
        "print('F1Score=', f1_score(y_val_freq_s, xgb1.predict(X_val_freq_s), average='weighted'))\n",
        "print('Accuracy=', accuracy_score(y_val_freq_s, xgb1.predict(X_val_freq_s)))\n",
        "print('')\n",
        "print('Train=', classification_report(y_train_freq_s, xgb1.predict(X_train_freq_s)))\n",
        "print('Val=', classification_report(y_val_freq, xgb0.predict(X_val_freq)))"
      ],
      "execution_count": null,
      "outputs": [
        {
          "output_type": "stream",
          "name": "stdout",
          "text": [
            "F1Score= 0.7218904416053936\n",
            "Accuracy= 0.7419354838709677\n",
            "\n",
            "Train=               precision    recall  f1-score   support\n",
            "\n",
            "           1       0.85      0.76      0.80       598\n",
            "           2       0.83      0.52      0.64       594\n",
            "          99       0.81      0.93      0.86      1932\n",
            "\n",
            "    accuracy                           0.82      3124\n",
            "   macro avg       0.83      0.73      0.77      3124\n",
            "weighted avg       0.82      0.82      0.81      3124\n",
            "\n",
            "Val=               precision    recall  f1-score   support\n",
            "\n",
            "           1       0.78      0.51      0.62        68\n",
            "           2       0.66      0.35      0.46       100\n",
            "          99       0.73      0.92      0.81       266\n",
            "\n",
            "    accuracy                           0.73       434\n",
            "   macro avg       0.72      0.60      0.63       434\n",
            "weighted avg       0.72      0.73      0.70       434\n",
            "\n"
          ]
        }
      ]
    },
    {
      "cell_type": "code",
      "metadata": {
        "colab": {
          "base_uri": "https://localhost:8080/"
        },
        "id": "drv-XRsnbWq-",
        "outputId": "56156f24-4214-44c5-b57d-f9a50f7982d8"
      },
      "source": [
        "#FEATURES FRECUENCIA SELECTIVAS UNIFICADAS\n",
        "xgb2 = xgb.XGBClassifier()\n",
        "xgb2.fit(X_train_freq_u, y_train_freq_u)\n",
        "print('F1Score=', f1_score(y_val_freq_u, xgb2.predict(X_val_freq_u), average='weighted'))\n",
        "print('Accuracy=', accuracy_score(y_val_freq_u, xgb2.predict(X_val_freq_u)))\n",
        "print('')\n",
        "print('Train=', classification_report(y_train_freq_u, xgb2.predict(X_train_freq_u)))\n",
        "print('Val=', classification_report(y_val_freq_u, xgb2.predict(X_val_freq_u)))"
      ],
      "execution_count": null,
      "outputs": [
        {
          "output_type": "stream",
          "name": "stdout",
          "text": [
            "F1Score= 0.685470579083813\n",
            "Accuracy= 0.7096774193548387\n",
            "\n",
            "Train=               precision    recall  f1-score   support\n",
            "\n",
            "           1       0.76      0.61      0.68       598\n",
            "           2       0.77      0.45      0.57       594\n",
            "          99       0.76      0.90      0.82      1932\n",
            "\n",
            "    accuracy                           0.76      3124\n",
            "   macro avg       0.76      0.65      0.69      3124\n",
            "weighted avg       0.76      0.76      0.75      3124\n",
            "\n",
            "Val=               precision    recall  f1-score   support\n",
            "\n",
            "           1       0.70      0.51      0.59        68\n",
            "           2       0.71      0.34      0.46       100\n",
            "          99       0.71      0.90      0.79       266\n",
            "\n",
            "    accuracy                           0.71       434\n",
            "   macro avg       0.71      0.58      0.62       434\n",
            "weighted avg       0.71      0.71      0.69       434\n",
            "\n"
          ]
        }
      ]
    },
    {
      "cell_type": "code",
      "metadata": {
        "colab": {
          "base_uri": "https://localhost:8080/"
        },
        "id": "nnV8yIkkbWq-",
        "outputId": "eec372ba-3d87-4eaa-cf41-83a1a892918a"
      },
      "source": [
        "#FEATURES TIME\n",
        "xgb3 = xgb.XGBClassifier()\n",
        "xgb3.fit(X_train_time, y_train_time)\n",
        "print('F1Score=', f1_score(y_val_time, xgb3.predict(X_val_time), average='weighted'))\n",
        "print('Accuracy=', accuracy_score(y_val_time, xgb3.predict(X_val_time)))\n",
        "print('')\n",
        "print('Train=', classification_report(y_train_time, xgb3.predict(X_train_time)))\n",
        "print('Val=', classification_report(y_val_time, xgb3.predict(X_val_time)))"
      ],
      "execution_count": null,
      "outputs": [
        {
          "output_type": "stream",
          "name": "stdout",
          "text": [
            "F1Score= 0.6962463799770954\n",
            "Accuracy= 0.7304147465437788\n",
            "\n",
            "Train=               precision    recall  f1-score   support\n",
            "\n",
            "           1       0.91      0.57      0.70       598\n",
            "           2       0.94      0.45      0.61       594\n",
            "          99       0.78      0.99      0.87      1932\n",
            "\n",
            "    accuracy                           0.81      3124\n",
            "   macro avg       0.87      0.67      0.73      3124\n",
            "weighted avg       0.83      0.81      0.79      3124\n",
            "\n",
            "Val=               precision    recall  f1-score   support\n",
            "\n",
            "           1       0.75      0.40      0.52        68\n",
            "           2       0.79      0.34      0.48       100\n",
            "          99       0.72      0.96      0.82       266\n",
            "\n",
            "    accuracy                           0.73       434\n",
            "   macro avg       0.75      0.57      0.61       434\n",
            "weighted avg       0.74      0.73      0.70       434\n",
            "\n"
          ]
        }
      ]
    },
    {
      "cell_type": "code",
      "metadata": {
        "colab": {
          "base_uri": "https://localhost:8080/"
        },
        "id": "E3YNi1eVbWq_",
        "outputId": "5223c13c-8af1-455d-8507-d006e4170dbf"
      },
      "source": [
        "#FEATURES AMPLITUD\n",
        "xgb4= xgb.XGBClassifier()\n",
        "xgb4.fit(X_train_sxx, y_train_sxx.ravel())\n",
        "print('F1Score=', f1_score(y_val_sxx, xgb4.predict(X_val_sxx), average='weighted'))\n",
        "print('Accuracy=', accuracy_score(y_val_sxx, xgb4.predict(X_val_sxx)))\n",
        "print('')\n",
        "print('Train=', classification_report(y_train_sxx, xgb4.predict(X_train_sxx)))\n",
        "print('Val=', classification_report(y_val_sxx, xgb4.predict(X_val_sxx)))"
      ],
      "execution_count": null,
      "outputs": [
        {
          "output_type": "stream",
          "name": "stdout",
          "text": [
            "F1Score= 0.7674137827983983\n",
            "Accuracy= 0.7692307692307693\n",
            "\n",
            "Train=               precision    recall  f1-score   support\n",
            "\n",
            "           1       0.91      0.74      0.82       278\n",
            "           2       0.82      0.73      0.77       303\n",
            "          99       0.85      0.93      0.89       815\n",
            "\n",
            "    accuracy                           0.85      1396\n",
            "   macro avg       0.86      0.80      0.83      1396\n",
            "weighted avg       0.85      0.85      0.85      1396\n",
            "\n",
            "Val=               precision    recall  f1-score   support\n",
            "\n",
            "           1       0.68      0.61      0.64        41\n",
            "           2       0.74      0.74      0.74        35\n",
            "          99       0.80      0.83      0.82       119\n",
            "\n",
            "    accuracy                           0.77       195\n",
            "   macro avg       0.74      0.73      0.73       195\n",
            "weighted avg       0.77      0.77      0.77       195\n",
            "\n"
          ]
        }
      ]
    },
    {
      "cell_type": "code",
      "metadata": {
        "colab": {
          "base_uri": "https://localhost:8080/"
        },
        "id": "Ea9bawyr52sp",
        "outputId": "86a7c1f2-e5f1-4c29-bd70-c4d65622b3ad"
      },
      "source": [
        "#FEATURES FRECUENCIA SELECTIVA SIN CLASE 99\n",
        "xgb5= xgb.XGBClassifier()\n",
        "xgb5.fit(X_train_m, y_train_m.ravel())\n",
        "print('F1Score=', f1_score(y_val_m, xgb5.predict(X_val_m), average='weighted'))\n",
        "print('Accuracy=', accuracy_score(y_val_m, xgb5.predict(X_val_m)))\n",
        "print('')\n",
        "print('Val=', classification_report(y_val_m, xgb5.predict(X_val_m)))"
      ],
      "execution_count": null,
      "outputs": [
        {
          "output_type": "stream",
          "name": "stdout",
          "text": [
            "F1Score= 0.8145378611366669\n",
            "Accuracy= 0.8147208121827412\n",
            "\n",
            "Val=               precision    recall  f1-score   support\n",
            "\n",
            "           1       0.83      0.79      0.81       193\n",
            "           2       0.80      0.84      0.82       201\n",
            "\n",
            "    accuracy                           0.81       394\n",
            "   macro avg       0.82      0.81      0.81       394\n",
            "weighted avg       0.82      0.81      0.81       394\n",
            "\n"
          ]
        }
      ]
    },
    {
      "cell_type": "markdown",
      "metadata": {
        "id": "mBPNMYBR3isk"
      },
      "source": [
        "##MODELO 8: DecisionTreeClassifier:"
      ]
    },
    {
      "cell_type": "code",
      "metadata": {
        "id": "ofj5-nXc9Mqr"
      },
      "source": [
        "from sklearn.tree import DecisionTreeClassifier"
      ],
      "execution_count": null,
      "outputs": []
    },
    {
      "cell_type": "code",
      "metadata": {
        "colab": {
          "base_uri": "https://localhost:8080/"
        },
        "id": "VOA0zEALpxm9",
        "outputId": "839fbf5a-5474-486b-f1a2-df9ea75e6b36"
      },
      "source": [
        "#FEATURES FRECUENCIA\n",
        "t0= DecisionTreeClassifier(class_weight='balanced')\n",
        "t0.fit(X_train_freq, y_train_freq)\n",
        "print('F1Score=', f1_score(y_val_freq, t0.predict(X_val_freq), average='weighted'))\n",
        "print('Accuracy=', accuracy_score(y_val_freq, t0.predict(X_val_freq)))\n",
        "print('')\n",
        "print('Train=', classification_report(y_train_freq, t0.predict(X_train_freq)))\n",
        "print('Val=', classification_report(y_val_freq, t0.predict(X_val_freq)))"
      ],
      "execution_count": null,
      "outputs": [
        {
          "output_type": "stream",
          "name": "stdout",
          "text": [
            "F1Score= 0.65868885928705\n",
            "Accuracy= 0.6566820276497696\n",
            "\n",
            "Train=               precision    recall  f1-score   support\n",
            "\n",
            "           1       0.92      0.96      0.94       598\n",
            "           2       0.88      0.99      0.93       594\n",
            "          99       1.00      0.94      0.97      1932\n",
            "\n",
            "    accuracy                           0.96      3124\n",
            "   macro avg       0.93      0.97      0.95      3124\n",
            "weighted avg       0.96      0.96      0.96      3124\n",
            "\n",
            "Val=               precision    recall  f1-score   support\n",
            "\n",
            "           1       0.47      0.54      0.51        68\n",
            "           2       0.54      0.52      0.53       100\n",
            "          99       0.76      0.74      0.75       266\n",
            "\n",
            "    accuracy                           0.66       434\n",
            "   macro avg       0.59      0.60      0.59       434\n",
            "weighted avg       0.66      0.66      0.66       434\n",
            "\n"
          ]
        }
      ]
    },
    {
      "cell_type": "code",
      "metadata": {
        "colab": {
          "base_uri": "https://localhost:8080/"
        },
        "id": "6Cka5570pxnE",
        "outputId": "1ed774fc-4c55-4aa0-c152-71bce57fb6c3"
      },
      "source": [
        "#FEATURES FRECUENCIA SELECTIVAS\n",
        "t1= DecisionTreeClassifier(class_weight='balanced')\n",
        "t1.fit(X_train_freq_s, y_train_freq_s)\n",
        "print('F1Score=', f1_score(y_val_freq_s, t1.predict(X_val_freq_s), average='weighted'))\n",
        "print('Accuracy=', accuracy_score(y_val_freq_s, t1.predict(X_val_freq_s)))\n",
        "print('')\n",
        "print('Train=', classification_report(y_train_freq_s, t1.predict(X_train_freq_s)))\n",
        "print('Val=', classification_report(y_val_freq_s, t1.predict(X_val_freq_s)))"
      ],
      "execution_count": null,
      "outputs": [
        {
          "output_type": "stream",
          "name": "stdout",
          "text": [
            "F1Score= 0.6634623325570256\n",
            "Accuracy= 0.6705069124423964\n",
            "\n",
            "Train=               precision    recall  f1-score   support\n",
            "\n",
            "           1       1.00      1.00      1.00       598\n",
            "           2       1.00      1.00      1.00       594\n",
            "          99       1.00      1.00      1.00      1932\n",
            "\n",
            "    accuracy                           1.00      3124\n",
            "   macro avg       1.00      1.00      1.00      3124\n",
            "weighted avg       1.00      1.00      1.00      3124\n",
            "\n",
            "Val=               precision    recall  f1-score   support\n",
            "\n",
            "           1       0.62      0.51      0.56        68\n",
            "           2       0.52      0.45      0.48       100\n",
            "          99       0.72      0.79      0.76       266\n",
            "\n",
            "    accuracy                           0.67       434\n",
            "   macro avg       0.62      0.59      0.60       434\n",
            "weighted avg       0.66      0.67      0.66       434\n",
            "\n"
          ]
        }
      ]
    },
    {
      "cell_type": "code",
      "metadata": {
        "colab": {
          "base_uri": "https://localhost:8080/"
        },
        "id": "8chnYixppxnF",
        "outputId": "99a50b57-11ab-4495-f8ca-942380dff161"
      },
      "source": [
        "#FEATURES FRECUENCIA SELECTIVAS UNIFICADAS\n",
        "t2 = DecisionTreeClassifier(class_weight='balanced')\n",
        "t2.fit(X_train_freq_u, y_train_freq_u)\n",
        "print('F1Score=', f1_score(y_val_freq_u, t2.predict(X_val_freq_u), average='weighted'))\n",
        "print('Accuracy=', accuracy_score(y_val_freq_u, t2.predict(X_val_freq_u)))\n",
        "print('')\n",
        "print('Train=', classification_report(y_train_freq_u, t2.predict(X_train_freq_u)))\n",
        "print('Val=', classification_report(y_val_freq_u, t2.predict(X_val_freq_u)))"
      ],
      "execution_count": null,
      "outputs": [
        {
          "output_type": "stream",
          "name": "stdout",
          "text": [
            "F1Score= 0.6133816259956545\n",
            "Accuracy= 0.6221198156682027\n",
            "\n",
            "Train=               precision    recall  f1-score   support\n",
            "\n",
            "           1       1.00      1.00      1.00       598\n",
            "           2       1.00      1.00      1.00       594\n",
            "          99       1.00      1.00      1.00      1932\n",
            "\n",
            "    accuracy                           1.00      3124\n",
            "   macro avg       1.00      1.00      1.00      3124\n",
            "weighted avg       1.00      1.00      1.00      3124\n",
            "\n",
            "Val=               precision    recall  f1-score   support\n",
            "\n",
            "           1       0.48      0.47      0.48        68\n",
            "           2       0.46      0.36      0.40       100\n",
            "          99       0.70      0.76      0.73       266\n",
            "\n",
            "    accuracy                           0.62       434\n",
            "   macro avg       0.55      0.53      0.54       434\n",
            "weighted avg       0.61      0.62      0.61       434\n",
            "\n"
          ]
        }
      ]
    },
    {
      "cell_type": "code",
      "metadata": {
        "colab": {
          "base_uri": "https://localhost:8080/"
        },
        "id": "NfPDmYZbpxnF",
        "outputId": "a9963c6d-4935-4c16-838e-18e9e32945ad"
      },
      "source": [
        "#FEATURES TIME\n",
        "t3 = DecisionTreeClassifier(class_weight='balanced')\n",
        "t3.fit(X_train_time, y_train_time)\n",
        "print('F1Score=', f1_score(y_val_time, t3.predict(X_val_time), average='weighted'))\n",
        "print('Accuracy=', accuracy_score(y_val_time, t3.predict(X_val_time)))\n",
        "print('')\n",
        "print('Train=', classification_report(y_train_time, t3.predict(X_train_time)))\n",
        "print('Val=', classification_report(y_val_time, t3.predict(X_val_time)))"
      ],
      "execution_count": null,
      "outputs": [
        {
          "output_type": "stream",
          "name": "stdout",
          "text": [
            "F1Score= 0.8587053255561693\n",
            "Accuracy= 0.8594470046082949\n",
            "\n",
            "Train=               precision    recall  f1-score   support\n",
            "\n",
            "           1       1.00      1.00      1.00       598\n",
            "           2       1.00      1.00      1.00       594\n",
            "          99       1.00      1.00      1.00      1932\n",
            "\n",
            "    accuracy                           1.00      3124\n",
            "   macro avg       1.00      1.00      1.00      3124\n",
            "weighted avg       1.00      1.00      1.00      3124\n",
            "\n",
            "Val=               precision    recall  f1-score   support\n",
            "\n",
            "           1       0.76      0.82      0.79        68\n",
            "           2       0.83      0.74      0.78       100\n",
            "          99       0.90      0.91      0.91       266\n",
            "\n",
            "    accuracy                           0.86       434\n",
            "   macro avg       0.83      0.83      0.83       434\n",
            "weighted avg       0.86      0.86      0.86       434\n",
            "\n"
          ]
        }
      ]
    },
    {
      "cell_type": "code",
      "metadata": {
        "colab": {
          "base_uri": "https://localhost:8080/"
        },
        "id": "UFR9gJ-7pxnF",
        "outputId": "5afa9c23-1fad-48b2-99b6-9bbfd292e9c0"
      },
      "source": [
        "#FEATURES AMPLITUD\n",
        "t4= DecisionTreeClassifier(class_weight='balanced')\n",
        "t4.fit(X_train_sxx, y_train_sxx.ravel())\n",
        "print('F1Score=', f1_score(y_val_sxx, t4.predict(X_val_sxx), average='weighted'))\n",
        "print('Accuracy=', accuracy_score(y_val_sxx, t4.predict(X_val_sxx)))\n",
        "print('')\n",
        "print('Train=', classification_report(y_train_sxx, t4.predict(X_train_sxx)))\n",
        "print('Val=', classification_report(y_val_sxx, t4.predict(X_val_sxx)))"
      ],
      "execution_count": null,
      "outputs": [
        {
          "output_type": "stream",
          "name": "stdout",
          "text": [
            "F1Score= 0.6751219024180398\n",
            "Accuracy= 0.6717948717948717\n",
            "\n",
            "Train=               precision    recall  f1-score   support\n",
            "\n",
            "           1       1.00      1.00      1.00       278\n",
            "           2       1.00      1.00      1.00       303\n",
            "          99       1.00      1.00      1.00       815\n",
            "\n",
            "    accuracy                           1.00      1396\n",
            "   macro avg       1.00      1.00      1.00      1396\n",
            "weighted avg       1.00      1.00      1.00      1396\n",
            "\n",
            "Val=               precision    recall  f1-score   support\n",
            "\n",
            "           1       0.62      0.59      0.60        41\n",
            "           2       0.48      0.57      0.52        35\n",
            "          99       0.76      0.73      0.75       119\n",
            "\n",
            "    accuracy                           0.67       195\n",
            "   macro avg       0.62      0.63      0.62       195\n",
            "weighted avg       0.68      0.67      0.68       195\n",
            "\n"
          ]
        }
      ]
    },
    {
      "cell_type": "code",
      "metadata": {
        "colab": {
          "base_uri": "https://localhost:8080/"
        },
        "id": "iiWgILHN6nrc",
        "outputId": "f275ad91-ace6-493c-dfdb-9dc4dce92046"
      },
      "source": [
        "#FEATURES FRECUENCIA SELECTIVA SIN CLASE 99\n",
        "t5= DecisionTreeClassifier(class_weight='balanced')\n",
        "t5.fit(X_train_m, y_train_m.ravel())\n",
        "print('F1Score=', f1_score(y_val_m, t5.predict(X_val_m), average='weighted'))\n",
        "print('Accuracy=', accuracy_score(y_val_m, t5.predict(X_val_m)))\n",
        "print('')\n",
        "print(classification_report(y_val_m, t5.predict(X_val_m)))"
      ],
      "execution_count": null,
      "outputs": [
        {
          "output_type": "stream",
          "name": "stdout",
          "text": [
            "F1Score= 0.7335282930879715\n",
            "Accuracy= 0.733502538071066\n",
            "\n",
            "              precision    recall  f1-score   support\n",
            "\n",
            "           1       0.72      0.74      0.73       193\n",
            "           2       0.74      0.73      0.74       201\n",
            "\n",
            "    accuracy                           0.73       394\n",
            "   macro avg       0.73      0.73      0.73       394\n",
            "weighted avg       0.73      0.73      0.73       394\n",
            "\n"
          ]
        }
      ]
    },
    {
      "cell_type": "markdown",
      "metadata": {
        "id": "YqBjWRitvPHa"
      },
      "source": [
        "#MODELOS SELECCIONADOS"
      ]
    },
    {
      "cell_type": "markdown",
      "metadata": {
        "id": "sZ8zadq-JVmu"
      },
      "source": [
        "##RANDOM FOREST"
      ]
    },
    {
      "cell_type": "code",
      "metadata": {
        "id": "NFvtus2uCDfg"
      },
      "source": [
        "rf = ensemble.RandomForestClassifier()"
      ],
      "execution_count": null,
      "outputs": []
    },
    {
      "cell_type": "code",
      "metadata": {
        "colab": {
          "base_uri": "https://localhost:8080/"
        },
        "id": "vUe8YJ9jt4s9",
        "outputId": "1a94455c-7aba-429d-a5ed-57561f537985"
      },
      "source": [
        "#se sobremuestrean las clases minoritarias para balancear los datos\n",
        "from imblearn.over_sampling import RandomOverSampler\n",
        "\n",
        "over_sampler = RandomOverSampler(random_state=0)\n",
        "X_res_t, y_res_t = over_sampler.fit_resample(X_train_time, y_train_time)"
      ],
      "execution_count": null,
      "outputs": [
        {
          "output_type": "stream",
          "name": "stderr",
          "text": [
            "/usr/local/lib/python3.7/dist-packages/sklearn/utils/deprecation.py:87: FutureWarning: Function safe_indexing is deprecated; safe_indexing is deprecated in version 0.22 and will be removed in version 0.24.\n",
            "  warnings.warn(msg, category=FutureWarning)\n"
          ]
        }
      ]
    },
    {
      "cell_type": "code",
      "metadata": {
        "colab": {
          "base_uri": "https://localhost:8080/",
          "height": 418
        },
        "id": "8MX-ezrp0dD9",
        "outputId": "d543cffe-befc-4b39-85df-da059eb62dde"
      },
      "source": [
        "param_grid_RF = {\n",
        "    'criterion': ['entropy', 'gini'],\n",
        "    'n_estimators': [100],\n",
        "    'max_depth': [None, 10, 15, 20, 30, 50],\n",
        "    'class_weight': [\"balanced\", \"balanced_subsample\", None]\n",
        "}\n",
        "RF_models = GridSearchCV(rf, param_grid_RF, cv=5, scoring='accuracy', n_jobs=-1)\n",
        "RF_models.fit(X_res_t, y_res_t)"
      ],
      "execution_count": null,
      "outputs": [
        {
          "output_type": "display_data",
          "data": {
            "application/javascript": [
              "\n",
              "        if (window._pyforest_update_imports_cell) { window._pyforest_update_imports_cell('from sklearn.model_selection import GridSearchCV'); }\n",
              "    "
            ],
            "text/plain": [
              "<IPython.core.display.Javascript object>"
            ]
          },
          "metadata": {}
        },
        {
          "output_type": "execute_result",
          "data": {
            "text/plain": [
              "GridSearchCV(cv=5, error_score=nan,\n",
              "             estimator=RandomForestClassifier(bootstrap=True, ccp_alpha=0.0,\n",
              "                                              class_weight=None,\n",
              "                                              criterion='gini', max_depth=None,\n",
              "                                              max_features='auto',\n",
              "                                              max_leaf_nodes=None,\n",
              "                                              max_samples=None,\n",
              "                                              min_impurity_decrease=0.0,\n",
              "                                              min_impurity_split=None,\n",
              "                                              min_samples_leaf=1,\n",
              "                                              min_samples_split=2,\n",
              "                                              min_weight_fraction_leaf=0.0,\n",
              "                                              n_estimators=100, n_jobs=None,\n",
              "                                              oob_score=False,\n",
              "                                              random_state=None, verbose=0,\n",
              "                                              warm_start=False),\n",
              "             iid='deprecated', n_jobs=-1,\n",
              "             param_grid={'class_weight': ['balanced', 'balanced_subsample',\n",
              "                                          None],\n",
              "                         'criterion': ['entropy', 'gini'],\n",
              "                         'max_depth': [None, 10, 15, 20, 30, 50],\n",
              "                         'n_estimators': [100]},\n",
              "             pre_dispatch='2*n_jobs', refit=True, return_train_score=False,\n",
              "             scoring='accuracy', verbose=0)"
            ]
          },
          "metadata": {},
          "execution_count": 217
        }
      ]
    },
    {
      "cell_type": "code",
      "metadata": {
        "colab": {
          "base_uri": "https://localhost:8080/"
        },
        "id": "tCrl2ceH0dD9",
        "outputId": "1ce2c386-46de-461e-f89b-244e4adbc087"
      },
      "source": [
        "best_RF_models = RF_models.best_estimator_\n",
        "best_RF_models"
      ],
      "execution_count": null,
      "outputs": [
        {
          "output_type": "execute_result",
          "data": {
            "text/plain": [
              "RandomForestClassifier(bootstrap=True, ccp_alpha=0.0, class_weight='balanced',\n",
              "                       criterion='entropy', max_depth=None, max_features='auto',\n",
              "                       max_leaf_nodes=None, max_samples=None,\n",
              "                       min_impurity_decrease=0.0, min_impurity_split=None,\n",
              "                       min_samples_leaf=1, min_samples_split=2,\n",
              "                       min_weight_fraction_leaf=0.0, n_estimators=100,\n",
              "                       n_jobs=None, oob_score=False, random_state=None,\n",
              "                       verbose=0, warm_start=False)"
            ]
          },
          "metadata": {},
          "execution_count": 218
        }
      ]
    },
    {
      "cell_type": "code",
      "metadata": {
        "colab": {
          "base_uri": "https://localhost:8080/"
        },
        "id": "LO6Xnk4v0dD9",
        "outputId": "dcce75e0-7ecc-4b39-a083-40c8dd84c10e"
      },
      "source": [
        "print('F1Score=', f1_score(y_val_time, best_RF_models.predict(X_val_time), average='weighted'))\n",
        "print('Accuracy=', accuracy_score(y_val_time, best_RF_models.predict(X_val_time)))\n",
        "print('')\n",
        "print(classification_report(y_val_time, best_RF_models.predict(X_val_time)))"
      ],
      "execution_count": null,
      "outputs": [
        {
          "output_type": "stream",
          "name": "stdout",
          "text": [
            "F1Score= 0.9355580615106299\n",
            "Accuracy= 0.9354838709677419\n",
            "\n",
            "              precision    recall  f1-score   support\n",
            "\n",
            "           1       0.86      0.91      0.89        68\n",
            "           2       0.94      0.89      0.91       100\n",
            "          99       0.96      0.96      0.96       266\n",
            "\n",
            "    accuracy                           0.94       434\n",
            "   macro avg       0.92      0.92      0.92       434\n",
            "weighted avg       0.94      0.94      0.94       434\n",
            "\n"
          ]
        }
      ]
    },
    {
      "cell_type": "code",
      "metadata": {
        "colab": {
          "base_uri": "https://localhost:8080/"
        },
        "id": "_PEOKVfCQtRK",
        "outputId": "05d234fc-bfbe-48a5-fc03-006f08bf3123"
      },
      "source": [
        "print('MODELO: RANDOM FOREST')\n",
        "print('')\n",
        "print('F1Score=', f1_score(y_test_time, best_RF_models.predict(X_test_time), average='weighted'))\n",
        "print('Accuracy=', accuracy_score(y_test_time, best_RF_models.predict(X_test_time)))\n",
        "print('')\n",
        "print(classification_report(y_test_time, best_RF_models.predict(X_test_time)))"
      ],
      "execution_count": null,
      "outputs": [
        {
          "output_type": "stream",
          "name": "stdout",
          "text": [
            "MODELO: RANDOM FOREST\n",
            "\n",
            "F1Score= 0.8932389511405618\n",
            "Accuracy= 0.8924455825864277\n",
            "\n",
            "              precision    recall  f1-score   support\n",
            "\n",
            "           1       0.78      0.86      0.82       140\n",
            "           2       0.88      0.87      0.88       173\n",
            "          99       0.93      0.91      0.92       468\n",
            "\n",
            "    accuracy                           0.89       781\n",
            "   macro avg       0.87      0.88      0.87       781\n",
            "weighted avg       0.89      0.89      0.89       781\n",
            "\n"
          ]
        }
      ]
    },
    {
      "cell_type": "markdown",
      "metadata": {
        "id": "RqV1HmctI6LI"
      },
      "source": [
        "##KNN"
      ]
    },
    {
      "cell_type": "code",
      "metadata": {
        "id": "unSq0pp2JazJ"
      },
      "source": [
        "KNN = KNeighborsClassifier()"
      ],
      "execution_count": null,
      "outputs": []
    },
    {
      "cell_type": "code",
      "metadata": {
        "colab": {
          "base_uri": "https://localhost:8080/"
        },
        "id": "LYThspsfPheO",
        "outputId": "113ce9fd-02f7-4f1a-c8f5-abf7f187d1cb"
      },
      "source": [
        "#se sobremuestrean las clases minoritarias para balancear los datos\n",
        "from imblearn.over_sampling import RandomOverSampler\n",
        "\n",
        "over_sampler = RandomOverSampler(random_state=0)\n",
        "X_res, y_res = over_sampler.fit_resample(X_train_freq_s, y_train_freq_s)"
      ],
      "execution_count": null,
      "outputs": [
        {
          "output_type": "stream",
          "name": "stderr",
          "text": [
            "/usr/local/lib/python3.7/dist-packages/sklearn/externals/six.py:31: FutureWarning: The module is deprecated in version 0.21 and will be removed in version 0.23 since we've dropped support for Python 2.7. Please rely on the official version of six (https://pypi.org/project/six/).\n",
            "  \"(https://pypi.org/project/six/).\", FutureWarning)\n",
            "/usr/local/lib/python3.7/dist-packages/sklearn/utils/deprecation.py:144: FutureWarning: The sklearn.neighbors.base module is  deprecated in version 0.22 and will be removed in version 0.24. The corresponding classes / functions should instead be imported from sklearn.neighbors. Anything that cannot be imported from sklearn.neighbors is now part of the private API.\n",
            "  warnings.warn(message, FutureWarning)\n",
            "/usr/local/lib/python3.7/dist-packages/sklearn/utils/deprecation.py:87: FutureWarning: Function safe_indexing is deprecated; safe_indexing is deprecated in version 0.22 and will be removed in version 0.24.\n",
            "  warnings.warn(msg, category=FutureWarning)\n"
          ]
        }
      ]
    },
    {
      "cell_type": "code",
      "metadata": {
        "colab": {
          "base_uri": "https://localhost:8080/",
          "height": 251
        },
        "id": "hWOKzcZW0dD-",
        "outputId": "cc545b56-2429-4bb8-fe1a-142471ce31a6"
      },
      "source": [
        "param_grid_neigh = {\n",
        "    'weights': ['uniform', 'distance'],\n",
        "    'n_neighbors': [1, 2, 3, 4, 5, 8, 12, 16, 17, 18, 19, 20, 30, 50],\n",
        "    'algorithm': ['auto', 'ball_tree', 'kd_tree', 'brute'],\n",
        "    'p': [1, 2], \n",
        "    'leaf_size': [1, 2, 5, 10, 20, 30, 40, 50]\n",
        "\n",
        "}\n",
        "neigh_models = GridSearchCV(KNN, param_grid_neigh, cv=5, scoring='accuracy', n_jobs=-1)\n",
        "neigh_models.fit(X_res, y_res)"
      ],
      "execution_count": null,
      "outputs": [
        {
          "output_type": "display_data",
          "data": {
            "application/javascript": [
              "\n",
              "        if (window._pyforest_update_imports_cell) { window._pyforest_update_imports_cell('from sklearn.model_selection import GridSearchCV'); }\n",
              "    "
            ],
            "text/plain": [
              "<IPython.core.display.Javascript object>"
            ]
          },
          "metadata": {}
        },
        {
          "output_type": "execute_result",
          "data": {
            "text/plain": [
              "GridSearchCV(cv=5, error_score=nan,\n",
              "             estimator=KNeighborsClassifier(algorithm='auto', leaf_size=30,\n",
              "                                            metric='minkowski',\n",
              "                                            metric_params=None, n_jobs=None,\n",
              "                                            n_neighbors=5, p=2,\n",
              "                                            weights='uniform'),\n",
              "             iid='deprecated', n_jobs=-1,\n",
              "             param_grid={'algorithm': ['auto', 'ball_tree', 'kd_tree', 'brute'],\n",
              "                         'leaf_size': [1, 2, 5, 10, 20, 30, 40, 50],\n",
              "                         'n_neighbors': [1, 2, 3, 4, 5, 8, 12, 16, 17, 18, 19,\n",
              "                                         20, 30, 50],\n",
              "                         'p': [1, 2], 'weights': ['uniform', 'distance']},\n",
              "             pre_dispatch='2*n_jobs', refit=True, return_train_score=False,\n",
              "             scoring='accuracy', verbose=0)"
            ]
          },
          "metadata": {},
          "execution_count": 178
        }
      ]
    },
    {
      "cell_type": "code",
      "metadata": {
        "colab": {
          "base_uri": "https://localhost:8080/"
        },
        "id": "1xTTexc_0dD-",
        "outputId": "2baeaa22-6941-4c1f-86a8-d0573916f803"
      },
      "source": [
        "best_neigh_models = neigh_models.best_estimator_ \n",
        "best_neigh_models"
      ],
      "execution_count": null,
      "outputs": [
        {
          "output_type": "execute_result",
          "data": {
            "text/plain": [
              "KNeighborsClassifier(algorithm='auto', leaf_size=1, metric='minkowski',\n",
              "                     metric_params=None, n_jobs=None, n_neighbors=1, p=1,\n",
              "                     weights='uniform')"
            ]
          },
          "metadata": {},
          "execution_count": 179
        }
      ]
    },
    {
      "cell_type": "code",
      "metadata": {
        "colab": {
          "base_uri": "https://localhost:8080/"
        },
        "id": "pQpxE_im0dD-",
        "outputId": "e3776937-d193-49d1-ba2f-bf11f669106c"
      },
      "source": [
        "print('F1Score=', f1_score(y_val_freq_s, best_neigh_models.predict(X_val_freq_s), average='weighted'))\n",
        "print('Accuracy=', accuracy_score(y_val_freq_s, best_neigh_models.predict(X_val_freq_s)))\n",
        "print('')\n",
        "print(classification_report(y_val_freq_s, best_neigh_models.predict(X_val_freq_s)))"
      ],
      "execution_count": null,
      "outputs": [
        {
          "output_type": "stream",
          "name": "stdout",
          "text": [
            "F1Score= 0.7915380668518089\n",
            "Accuracy= 0.7926267281105991\n",
            "\n",
            "              precision    recall  f1-score   support\n",
            "\n",
            "           1       0.81      0.82      0.82        68\n",
            "           2       0.66      0.63      0.65       100\n",
            "          99       0.83      0.85      0.84       266\n",
            "\n",
            "    accuracy                           0.79       434\n",
            "   macro avg       0.77      0.77      0.77       434\n",
            "weighted avg       0.79      0.79      0.79       434\n",
            "\n"
          ]
        }
      ]
    },
    {
      "cell_type": "code",
      "metadata": {
        "colab": {
          "base_uri": "https://localhost:8080/"
        },
        "id": "tD92WLUCbbk6",
        "outputId": "094088a2-9a75-4dca-dbbc-c3c3e0a0b215"
      },
      "source": [
        "print('MODELO: KNeighborsClassifier')\n",
        "print('')\n",
        "print('F1Score=', f1_score(y_test_freq_s, best_neigh_models.predict(X_test_freq_s), average='weighted'))\n",
        "print('Accuracy=', accuracy_score(y_test_freq_s, best_neigh_models.predict(X_test_freq_s)))\n",
        "print('')\n",
        "print(classification_report(y_test_freq_s, best_neigh_models.predict(X_test_freq_s)))"
      ],
      "execution_count": null,
      "outputs": [
        {
          "output_type": "stream",
          "name": "stdout",
          "text": [
            "MODELO: KNeighborsClassifier\n",
            "\n",
            "F1Score= 0.80636926576299\n",
            "Accuracy= 0.8066581306017926\n",
            "\n",
            "              precision    recall  f1-score   support\n",
            "\n",
            "           1       0.79      0.80      0.79       140\n",
            "           2       0.72      0.70      0.71       173\n",
            "          99       0.84      0.85      0.85       468\n",
            "\n",
            "    accuracy                           0.81       781\n",
            "   macro avg       0.78      0.78      0.78       781\n",
            "weighted avg       0.81      0.81      0.81       781\n",
            "\n"
          ]
        }
      ]
    },
    {
      "cell_type": "markdown",
      "metadata": {
        "id": "jqvXRtda6d19"
      },
      "source": [
        "##XGBOOST"
      ]
    },
    {
      "cell_type": "code",
      "metadata": {
        "id": "U2JDaorCBuKe"
      },
      "source": [
        "xgb_clf= xgb.XGBClassifier()"
      ],
      "execution_count": null,
      "outputs": []
    },
    {
      "cell_type": "code",
      "metadata": {
        "id": "8hhYHqHMnF9S"
      },
      "source": [
        "xgb_param_grid = {\n",
        "       'nthread':[1],\n",
        "       'n_estimators': [30, 50, 60, 70],\n",
        "       'max_depth': [5, 7, 10],\n",
        "       'verbosity': [0, 1],\n",
        "       'silent':[True, False, None],\n",
        "       'learning_rate': [0.05, 0.1, 0.5]\n",
        "       }\n",
        "       "
      ],
      "execution_count": null,
      "outputs": []
    },
    {
      "cell_type": "code",
      "metadata": {
        "id": "G-26CJ1SnouT",
        "colab": {
          "base_uri": "https://localhost:8080/",
          "height": 318
        },
        "outputId": "2f2c1c1f-9a65-4264-82fc-c10aab890087"
      },
      "source": [
        "xgb_models = GridSearchCV(xgb_clf, xgb_param_grid, cv=5, scoring='f1', n_jobs= -1)\n",
        "xgb_models.fit(X_train_m, y_train_m)"
      ],
      "execution_count": null,
      "outputs": [
        {
          "output_type": "display_data",
          "data": {
            "application/javascript": [
              "\n",
              "        if (window._pyforest_update_imports_cell) { window._pyforest_update_imports_cell('from sklearn.model_selection import GridSearchCV'); }\n",
              "    "
            ],
            "text/plain": [
              "<IPython.core.display.Javascript object>"
            ]
          },
          "metadata": {}
        },
        {
          "output_type": "execute_result",
          "data": {
            "text/plain": [
              "GridSearchCV(cv=5, error_score=nan,\n",
              "             estimator=XGBClassifier(base_score=0.5, booster='gbtree',\n",
              "                                     colsample_bylevel=1, colsample_bynode=1,\n",
              "                                     colsample_bytree=1, gamma=0,\n",
              "                                     learning_rate=0.1, max_delta_step=0,\n",
              "                                     max_depth=3, min_child_weight=1,\n",
              "                                     missing=None, n_estimators=100, n_jobs=1,\n",
              "                                     nthread=None, objective='binary:logistic',\n",
              "                                     random_state=0, reg_alpha=0, reg_lambda=1,\n",
              "                                     scale_pos_weight=1, seed=None, silent=None,\n",
              "                                     subsample=1, verbosity=1),\n",
              "             iid='deprecated', n_jobs=-1,\n",
              "             param_grid={'learning_rate': [0.05, 0.1, 0.5],\n",
              "                         'max_depth': [5, 7, 10],\n",
              "                         'n_estimators': [30, 50, 60, 70], 'nthread': [1],\n",
              "                         'silent': [True, False, None], 'verbosity': [0, 1]},\n",
              "             pre_dispatch='2*n_jobs', refit=True, return_train_score=False,\n",
              "             scoring='f1', verbose=0)"
            ]
          },
          "metadata": {},
          "execution_count": 184
        }
      ]
    },
    {
      "cell_type": "code",
      "metadata": {
        "id": "WzjLZBi6gYVo",
        "colab": {
          "base_uri": "https://localhost:8080/"
        },
        "outputId": "dd805f52-b1b5-456f-987b-9190c51b418a"
      },
      "source": [
        "best_xgb= xgb_models.best_estimator_\n",
        "best_xgb"
      ],
      "execution_count": null,
      "outputs": [
        {
          "output_type": "execute_result",
          "data": {
            "text/plain": [
              "XGBClassifier(base_score=0.5, booster='gbtree', colsample_bylevel=1,\n",
              "              colsample_bynode=1, colsample_bytree=1, gamma=0,\n",
              "              learning_rate=0.1, max_delta_step=0, max_depth=7,\n",
              "              min_child_weight=1, missing=None, n_estimators=50, n_jobs=1,\n",
              "              nthread=1, objective='binary:logistic', random_state=0,\n",
              "              reg_alpha=0, reg_lambda=1, scale_pos_weight=1, seed=None,\n",
              "              silent=True, subsample=1, verbosity=0)"
            ]
          },
          "metadata": {},
          "execution_count": 185
        }
      ]
    },
    {
      "cell_type": "code",
      "metadata": {
        "id": "fse8JEuznfrM",
        "colab": {
          "base_uri": "https://localhost:8080/"
        },
        "outputId": "1c3848d4-f1e3-486f-a2c2-559832982cd8"
      },
      "source": [
        "print('F1Score=', f1_score(y_val_m, best_xgb.predict(X_val_m), average='weighted'))\n",
        "print('Accuracy=', accuracy_score(y_val_m, best_xgb.predict(X_val_m)))\n",
        "print('')\n",
        "print(classification_report(y_val_m, best_xgb.predict(X_val_m))) "
      ],
      "execution_count": null,
      "outputs": [
        {
          "output_type": "stream",
          "name": "stdout",
          "text": [
            "F1Score= 0.7969281382452965\n",
            "Accuracy= 0.7969543147208121\n",
            "\n",
            "              precision    recall  f1-score   support\n",
            "\n",
            "           1       0.80      0.79      0.79       193\n",
            "           2       0.80      0.81      0.80       201\n",
            "\n",
            "    accuracy                           0.80       394\n",
            "   macro avg       0.80      0.80      0.80       394\n",
            "weighted avg       0.80      0.80      0.80       394\n",
            "\n"
          ]
        }
      ]
    }
  ]
}